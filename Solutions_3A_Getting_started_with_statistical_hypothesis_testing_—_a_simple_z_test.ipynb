{
  "nbformat": 4,
  "nbformat_minor": 0,
  "metadata": {
    "colab": {
      "name": "Solutions: 3A Getting started with statistical hypothesis testing — a simple z-test.ipynb",
      "version": "0.3.2",
      "provenance": [],
      "collapsed_sections": [],
      "include_colab_link": true
    },
    "kernelspec": {
      "name": "python3",
      "display_name": "Python 3"
    }
  },
  "cells": [
    {
      "cell_type": "markdown",
      "metadata": {
        "id": "view-in-github",
        "colab_type": "text"
      },
      "source": [
        "<a href=\"https://colab.research.google.com/github/atlas-github/20190731StarMediaGroup/blob/master/Solutions_3A_Getting_started_with_statistical_hypothesis_testing_%E2%80%94_a_simple_z_test.ipynb\" target=\"_parent\"><img src=\"https://colab.research.google.com/assets/colab-badge.svg\" alt=\"Open In Colab\"/></a>"
      ]
    },
    {
      "cell_type": "markdown",
      "metadata": {
        "id": "9kFF01vp0Dhc",
        "colab_type": "text"
      },
      "source": [
        "#Exercise"
      ]
    },
    {
      "cell_type": "markdown",
      "metadata": {
        "id": "IImm8kL30Ik6",
        "colab_type": "text"
      },
      "source": [
        "Use the [statmodels.stats.proportion.proportions_ztest](https://www.statsmodels.org/devel/generated/statsmodels.stats.proportion.proportions_ztest.html) library to quickly solve the above problem. "
      ]
    },
    {
      "cell_type": "code",
      "metadata": {
        "id": "H_DniSOk0QvA",
        "colab_type": "code",
        "colab": {}
      },
      "source": [
        "n = 100  # number of coin flips\n",
        "h = 61  # number of heads\n",
        "q = .5  # null-hypothesis of fair coin"
      ],
      "execution_count": 0,
      "outputs": []
    },
    {
      "cell_type": "code",
      "metadata": {
        "id": "fW59oumL0DKU",
        "colab_type": "code",
        "outputId": "5ac16417-ae48-4664-c7c7-7a2c3e84cf1b",
        "colab": {
          "base_uri": "https://localhost:8080/",
          "height": 68
        }
      },
      "source": [
        "from statsmodels.stats.proportion import proportions_ztest\n",
        "\n",
        "zstat, pvalue = proportions_ztest(h, n, value = q, alternative = 'two-sided', prop_var = False)\n",
        "\n",
        "print(\"z value\", zstat)\n",
        "print(\"p-values\", pvalue)\n",
        "\n",
        "if pvalue < 0.05:\n",
        "  print(\"Reject null hypothesis.\")\n",
        "else:\n",
        "  print(\"Accept null hypothesis.\")\n"
      ],
      "execution_count": 0,
      "outputs": [
        {
          "output_type": "stream",
          "text": [
            "z value 2.255254012288006\n",
            "p-values 0.024117389408306367\n",
            "Reject null hypothesis.\n"
          ],
          "name": "stdout"
        }
      ]
    }
  ]
}