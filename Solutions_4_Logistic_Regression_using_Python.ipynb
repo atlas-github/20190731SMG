{
  "nbformat": 4,
  "nbformat_minor": 0,
  "metadata": {
    "colab": {
      "name": "Solutions: 4 Logistic Regression using Python.ipynb",
      "version": "0.3.2",
      "provenance": [],
      "collapsed_sections": [],
      "include_colab_link": true
    },
    "kernelspec": {
      "name": "python3",
      "display_name": "Python 3"
    }
  },
  "cells": [
    {
      "cell_type": "markdown",
      "metadata": {
        "id": "view-in-github",
        "colab_type": "text"
      },
      "source": [
        "<a href=\"https://colab.research.google.com/github/atlas-github/20190731StarMediaGroup/blob/master/Solutions_4_Logistic_Regression_using_Python.ipynb\" target=\"_parent\"><img src=\"https://colab.research.google.com/assets/colab-badge.svg\" alt=\"Open In Colab\"/></a>"
      ]
    },
    {
      "cell_type": "markdown",
      "metadata": {
        "id": "V_xAoto5nzKo",
        "colab_type": "text"
      },
      "source": [
        "##Step 4: Scikit-learn 4-Step Modeling Pattern (Digits Dataset)"
      ]
    },
    {
      "cell_type": "markdown",
      "metadata": {
        "id": "R4GjvxKXn8jN",
        "colab_type": "text"
      },
      "source": [
        "###Import the [model](https://scikit-learn.org/stable/modules/generated/sklearn.linear_model.LogisticRegression.html) you want to use\n",
        "\n",
        "In sklearn, all machine learning models are implemented as Python classes"
      ]
    },
    {
      "cell_type": "code",
      "metadata": {
        "id": "x94XZSx6noeS",
        "colab_type": "code",
        "colab": {}
      },
      "source": [
        "from sklearn.linear_model import LogisticRegression"
      ],
      "execution_count": 0,
      "outputs": []
    },
    {
      "cell_type": "markdown",
      "metadata": {
        "id": "WC3TkxE-oPA0",
        "colab_type": "text"
      },
      "source": [
        "###Make an instance of the [Model](https://scikit-learn.org/stable/modules/generated/sklearn.linear_model.LogisticRegression.html)"
      ]
    },
    {
      "cell_type": "code",
      "metadata": {
        "id": "mA16v_MhoOqf",
        "colab_type": "code",
        "colab": {}
      },
      "source": [
        "# all parameters not specified are set to their defaults\n",
        "### ADJUST THE CODE SO THE WARNINGS DON'T APPEAR\n",
        "logisticRegr = LogisticRegression()"
      ],
      "execution_count": 0,
      "outputs": []
    }
  ]
}