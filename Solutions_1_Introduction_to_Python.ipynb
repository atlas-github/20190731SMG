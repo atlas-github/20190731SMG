{
  "nbformat": 4,
  "nbformat_minor": 0,
  "metadata": {
    "colab": {
      "name": "Solutions: 1_Introduction_to_Python.ipynb",
      "version": "0.3.2",
      "provenance": [],
      "collapsed_sections": [],
      "include_colab_link": true
    },
    "kernelspec": {
      "name": "python3",
      "display_name": "Python 3"
    }
  },
  "cells": [
    {
      "cell_type": "markdown",
      "metadata": {
        "id": "view-in-github",
        "colab_type": "text"
      },
      "source": [
        "<a href=\"https://colab.research.google.com/github/atlas-github/20190731StarMediaGroup/blob/master/Solutions_1_Introduction_to_Python.ipynb\" target=\"_parent\"><img src=\"https://colab.research.google.com/assets/colab-badge.svg\" alt=\"Open In Colab\"/></a>"
      ]
    },
    {
      "cell_type": "markdown",
      "metadata": {
        "id": "RxQIny-qOdZ4",
        "colab_type": "text"
      },
      "source": [
        "# Exercises"
      ]
    },
    {
      "cell_type": "markdown",
      "metadata": {
        "id": "M2QCURfTOfwP",
        "colab_type": "text"
      },
      "source": [
        "Ask the user for a number. Depending on whether the number is even or odd, print out an appropriate message to the user. Hint: how does an even / odd number react differently when divided by 2?"
      ]
    },
    {
      "cell_type": "code",
      "metadata": {
        "id": "3oNWfDPcN1NI",
        "colab_type": "code",
        "colab": {}
      },
      "source": [
        "num = int(input(\"Enter a number: \"))\n",
        "mod = num % 2\n",
        "if mod > 0:\n",
        "    print(\"You picked an odd number.\")\n",
        "else:\n",
        "    print(\"You picked an even number.\")"
      ],
      "execution_count": 0,
      "outputs": []
    },
    {
      "cell_type": "markdown",
      "metadata": {
        "id": "CBGihTsDOh3B",
        "colab_type": "text"
      },
      "source": [
        "Extras:\n",
        "\n",
        "1. If the number is a multiple of 4, print out a different message.\n",
        "2. Ask the user for two numbers: one number to check (call it num) and one number to divide by (check). If check divides evenly into num, tell that to the user. If not, print a different appropriate message."
      ]
    },
    {
      "cell_type": "code",
      "metadata": {
        "id": "tbzn2SsLOhgw",
        "colab_type": "code",
        "colab": {}
      },
      "source": [
        "num = int(input(\"give me a number to check: \"))\n",
        "\n",
        "if num % 4 == 0:\n",
        "    print(num, \"is a multiple of 4\")\n",
        "elif num % 2 == 0:\n",
        "    print(num, \"is an even number\")\n",
        "else:\n",
        "    print(num, \"is an odd number\")"
      ],
      "execution_count": 0,
      "outputs": []
    },
    {
      "cell_type": "code",
      "metadata": {
        "id": "Dyqcbrq8POBk",
        "colab_type": "code",
        "colab": {}
      },
      "source": [
        "num = int(input(\"give me a number to check: \"))\n",
        "check = int(input(\"give me a number to divide by: \"))\n",
        "\n",
        "if num % check == 0:\n",
        "    print(num, \"divides evenly by\", check)\n",
        "else:\n",
        "    print(num, \"does not divide evenly by\", check)"
      ],
      "execution_count": 0,
      "outputs": []
    }
  ]
}