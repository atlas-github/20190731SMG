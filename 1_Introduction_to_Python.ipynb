{
  "nbformat": 4,
  "nbformat_minor": 0,
  "metadata": {
    "colab": {
      "name": "1 Introduction to Python.ipynb",
      "version": "0.3.2",
      "provenance": [],
      "collapsed_sections": [],
      "include_colab_link": true
    },
    "kernelspec": {
      "name": "python3",
      "display_name": "Python 3"
    }
  },
  "cells": [
    {
      "cell_type": "markdown",
      "metadata": {
        "id": "view-in-github",
        "colab_type": "text"
      },
      "source": [
        "<a href=\"https://colab.research.google.com/github/atlas-github/20190731SMG/blob/master/1_Introduction_to_Python.ipynb\" target=\"_parent\"><img src=\"https://colab.research.google.com/assets/colab-badge.svg\" alt=\"Open In Colab\"/></a>"
      ]
    },
    {
      "cell_type": "code",
      "metadata": {
        "id": "ZIrGYKSFitp2",
        "colab_type": "code",
        "colab": {
          "base_uri": "https://localhost:8080/",
          "height": 34
        },
        "outputId": "67390e63-1127-464f-8098-a0bb93177256"
      },
      "source": [
        "print(\"Hello World\")"
      ],
      "execution_count": 4,
      "outputs": [
        {
          "output_type": "stream",
          "text": [
            "Hello World\n"
          ],
          "name": "stdout"
        }
      ]
    },
    {
      "cell_type": "markdown",
      "metadata": {
        "id": "j5I2EPH4DPEC",
        "colab_type": "text"
      },
      "source": [
        "# Python Crash Course\n",
        "\n",
        "Please note, this is not meant to be a comprehensive overview of Python or programming in general. There are recommended sources at the bottom part of this notebook to help you learn more about Python programming. \n",
        "\n",
        "This notebook will just go through the basic topics in order:\n",
        "\n",
        "* Data types\n",
        "    * Numbers\n",
        "    * Strings\n",
        "    * Printing\n",
        "    * Lists\n",
        "    * Dictionaries\n",
        "    * Booleans\n",
        "    * Tuples \n",
        "    * Sets\n",
        "* Comparison Operators\n",
        "* if,elif, else Statements\n",
        "* for Loops\n",
        "* while Loops\n",
        "* range()"
      ]
    },
    {
      "cell_type": "markdown",
      "metadata": {
        "id": "PNM2SzBfDIwg",
        "colab_type": "text"
      },
      "source": [
        "# Why Python?\n",
        "\n",
        "1. It’s easy to learn\n",
        "2. Now the language of choice for 8 of 10 top US computer science\n",
        "programs (Philip Guo, CACM)\n",
        "3. Full featured\n",
        "4. Not just a statistics language, but has full capabilities for data\n",
        "acquisition, cleaning, databases, high performance computing, and more\n",
        "5. Strong Data Science Libraries\n",
        "6. The SciPy Ecosystem\n",
        "\n",
        "\n",
        "It's important to note that Python isn't the only way that we could teach data science. We can teach data science in R, in Excel, in any number of software packages.  That's because Python is a tool that data scientists use, but the concepts are more important for you to understand. "
      ]
    },
    {
      "cell_type": "code",
      "metadata": {
        "id": "gz3xuk3vG4I-",
        "colab_type": "code",
        "colab": {}
      },
      "source": [
        ""
      ],
      "execution_count": 0,
      "outputs": []
    }
  ]
}