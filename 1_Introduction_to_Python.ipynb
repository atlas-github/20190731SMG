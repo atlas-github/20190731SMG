{
  "nbformat": 4,
  "nbformat_minor": 0,
  "metadata": {
    "colab": {
      "name": "1 Introduction to Python.ipynb",
      "version": "0.3.2",
      "provenance": [],
      "collapsed_sections": [],
      "include_colab_link": true
    },
    "kernelspec": {
      "name": "python3",
      "display_name": "Python 3"
    }
  },
  "cells": [
    {
      "cell_type": "markdown",
      "metadata": {
        "id": "view-in-github",
        "colab_type": "text"
      },
      "source": [
        "<a href=\"https://colab.research.google.com/github/atlas-github/20190731SMG/blob/master/1_Introduction_to_Python.ipynb\" target=\"_parent\"><img src=\"https://colab.research.google.com/assets/colab-badge.svg\" alt=\"Open In Colab\"/></a>"
      ]
    },
    {
      "cell_type": "code",
      "metadata": {
        "id": "ZIrGYKSFitp2",
        "colab_type": "code",
        "colab": {}
      },
      "source": [
        "print(\"Hello World\")"
      ],
      "execution_count": 0,
      "outputs": []
    },
    {
      "cell_type": "markdown",
      "metadata": {
        "id": "j5I2EPH4DPEC",
        "colab_type": "text"
      },
      "source": [
        "# Python Crash Course\n",
        "\n",
        "Please note, this is not meant to be a comprehensive overview of Python or programming in general. There are recommended sources at the bottom part of this notebook to help you learn more about Python programming. \n",
        "\n",
        "This notebook will just go through the basic topics in order:\n",
        "\n",
        "* Data types\n",
        "    * Numbers\n",
        "    * Strings\n",
        "    * Printing\n",
        "    * Lists\n",
        "    * Dictionaries\n",
        "    * Booleans\n",
        "    * Tuples \n",
        "    * Sets\n",
        "* Comparison Operators\n",
        "* if,elif, else Statements\n",
        "* for Loops\n",
        "* while Loops\n",
        "* range()"
      ]
    },
    {
      "cell_type": "markdown",
      "metadata": {
        "id": "PNM2SzBfDIwg",
        "colab_type": "text"
      },
      "source": [
        "# Why Python?\n",
        "\n",
        "1. It’s easy to learn\n",
        "2. Now the language of choice for 8 of 10 top US computer science\n",
        "programs (Philip Guo, CACM)\n",
        "3. Full featured\n",
        "4. Not just a statistics language, but has full capabilities for data\n",
        "acquisition, cleaning, databases, high performance computing, and more\n",
        "5. Strong Data Science Libraries\n",
        "6. The SciPy Ecosystem\n",
        "\n",
        "\n",
        "It's important to note that Python isn't the only way that we could teach data science. We can teach data science in R, in Excel, in any number of software packages.  That's because Python is a tool that data scientists use, but the concepts are more important for you to understand. "
      ]
    },
    {
      "cell_type": "markdown",
      "metadata": {
        "id": "TP8v7hWHHeMm",
        "colab_type": "text"
      },
      "source": [
        "## Data types\n",
        "\n",
        "### Numbers\n",
        "\n",
        "Python can also handle numbers, and basic arithmetic using the following functions.\n",
        "\n",
        "| Symbol | Task Performed |\n",
        "|----|---|\n",
        "| +  | Addition |\n",
        "| -  | Subtraction |\n",
        "| /  | division |\n",
        "| %  | modulo |\n",
        "| *  | multiplication |\n",
        "| //  | floor division |\n",
        "| **  | to the power of |"
      ]
    },
    {
      "cell_type": "code",
      "metadata": {
        "id": "gz3xuk3vG4I-",
        "colab_type": "code",
        "colab": {}
      },
      "source": [
        "1 + 1"
      ],
      "execution_count": 0,
      "outputs": []
    },
    {
      "cell_type": "code",
      "metadata": {
        "id": "5zbDUjTaHfui",
        "colab_type": "code",
        "colab": {}
      },
      "source": [
        "1 * 3"
      ],
      "execution_count": 0,
      "outputs": []
    },
    {
      "cell_type": "code",
      "metadata": {
        "id": "O2CFuwTfQ3Vk",
        "colab_type": "code",
        "colab": {}
      },
      "source": [
        "1 / 2"
      ],
      "execution_count": 0,
      "outputs": []
    },
    {
      "cell_type": "code",
      "metadata": {
        "id": "yCdWdJ-KQ83R",
        "colab_type": "code",
        "colab": {}
      },
      "source": [
        "2 ** 4"
      ],
      "execution_count": 0,
      "outputs": []
    },
    {
      "cell_type": "code",
      "metadata": {
        "id": "F4w9u3_6Q94W",
        "colab_type": "code",
        "colab": {}
      },
      "source": [
        "4 % 2"
      ],
      "execution_count": 0,
      "outputs": []
    },
    {
      "cell_type": "code",
      "metadata": {
        "id": "3aEo2Kf0Q_L1",
        "colab_type": "code",
        "colab": {}
      },
      "source": [
        "5 % 2"
      ],
      "execution_count": 0,
      "outputs": []
    },
    {
      "cell_type": "code",
      "metadata": {
        "id": "JRmi63QORAb9",
        "colab_type": "code",
        "colab": {}
      },
      "source": [
        "(2 + 3) * (5 + 5)"
      ],
      "execution_count": 0,
      "outputs": []
    },
    {
      "cell_type": "markdown",
      "metadata": {
        "id": "g336z7_fRe2V",
        "colab_type": "text"
      },
      "source": [
        "### Variable Assignment"
      ]
    },
    {
      "cell_type": "code",
      "metadata": {
        "id": "sdm3h1gjRccN",
        "colab_type": "code",
        "colab": {}
      },
      "source": [
        "# Cannot start with number or special characters\n",
        "name_of_var = 2"
      ],
      "execution_count": 0,
      "outputs": []
    },
    {
      "cell_type": "code",
      "metadata": {
        "id": "qr8xXW_LRjYn",
        "colab_type": "code",
        "colab": {}
      },
      "source": [
        "x = 2\n",
        "y = 3"
      ],
      "execution_count": 0,
      "outputs": []
    },
    {
      "cell_type": "code",
      "metadata": {
        "id": "IZsNqSl3Rk7O",
        "colab_type": "code",
        "colab": {}
      },
      "source": [
        "x*y"
      ],
      "execution_count": 0,
      "outputs": []
    },
    {
      "cell_type": "code",
      "metadata": {
        "id": "ZBlV8QIQRpS-",
        "colab_type": "code",
        "colab": {}
      },
      "source": [
        "z = x + y"
      ],
      "execution_count": 0,
      "outputs": []
    },
    {
      "cell_type": "code",
      "metadata": {
        "id": "e5ynGpxCRqYU",
        "colab_type": "code",
        "colab": {}
      },
      "source": [
        "z"
      ],
      "execution_count": 0,
      "outputs": []
    },
    {
      "cell_type": "markdown",
      "metadata": {
        "id": "NpuPnCzAR24W",
        "colab_type": "text"
      },
      "source": [
        "### Strings\n",
        "\n",
        "A string is a set of characters.  Strings are used to store data that is _text_.\n",
        "\n",
        "In Python, Strings are abbreviated \"str\" and there are many built-in features that allow you to manipulate those strings.  \n",
        "\n",
        "Strings can be enclosed by either double or single quotes, although single quotes are more common."
      ]
    },
    {
      "cell_type": "code",
      "metadata": {
        "id": "uP6-dR-GRzQe",
        "colab_type": "code",
        "colab": {}
      },
      "source": [
        "a = \"Najib\""
      ],
      "execution_count": 0,
      "outputs": []
    },
    {
      "cell_type": "code",
      "metadata": {
        "id": "gIOVuFTtR3as",
        "colab_type": "code",
        "colab": {}
      },
      "source": [
        "a"
      ],
      "execution_count": 0,
      "outputs": []
    },
    {
      "cell_type": "code",
      "metadata": {
        "id": "8BntkB-IR8HS",
        "colab_type": "code",
        "colab": {}
      },
      "source": [
        "'single quotes'"
      ],
      "execution_count": 0,
      "outputs": []
    },
    {
      "cell_type": "code",
      "metadata": {
        "id": "2j02mR2oR9hI",
        "colab_type": "code",
        "colab": {}
      },
      "source": [
        "\"double quotes\""
      ],
      "execution_count": 0,
      "outputs": []
    },
    {
      "cell_type": "markdown",
      "metadata": {
        "id": "xy21e_5-SBgn",
        "colab_type": "text"
      },
      "source": [
        "Question: Why would you want to use double quotes on occasion?"
      ]
    },
    {
      "cell_type": "code",
      "metadata": {
        "id": "Dlt0ey2PR-nF",
        "colab_type": "code",
        "colab": {}
      },
      "source": [
        "\" wrap lot's of other quotes\""
      ],
      "execution_count": 0,
      "outputs": []
    },
    {
      "cell_type": "markdown",
      "metadata": {
        "id": "fByzxk2ISGNv",
        "colab_type": "text"
      },
      "source": [
        "#### String Operations\n",
        "\n",
        "s + t -- the concatenation of s and t\n",
        "\n",
        "n * s -- equivalent to adding s to itself n times"
      ]
    },
    {
      "cell_type": "code",
      "metadata": {
        "id": "Lc8WEWYYSCC6",
        "colab_type": "code",
        "colab": {}
      },
      "source": [
        "b + \" Fries\""
      ],
      "execution_count": 0,
      "outputs": []
    },
    {
      "cell_type": "code",
      "metadata": {
        "id": "Qku8TwxUSIjU",
        "colab_type": "code",
        "colab": {}
      },
      "source": [
        "b = 'French' # Concatenation works quite intuitively\n",
        "print((b + ' Fries'))"
      ],
      "execution_count": 0,
      "outputs": []
    },
    {
      "cell_type": "code",
      "metadata": {
        "id": "XkaM-sO1SMdv",
        "colab_type": "code",
        "colab": {}
      },
      "source": [
        "c = \"yay! \"\n",
        "print(c * 5)"
      ],
      "execution_count": 0,
      "outputs": []
    },
    {
      "cell_type": "markdown",
      "metadata": {
        "id": "aZiTscm0STVl",
        "colab_type": "text"
      },
      "source": [
        "#### Slices of String Indices\n",
        "\n",
        "Characters in a string can be accessed using the standard [ ] syntax, and like Java and C++, Python uses zero-based indexing.  This concept will extend much further than strings.\n",
        "\n",
        "This is easiest to think about if you think of each letter as being in its own box.\n",
        "\n",
        "s ='hello'\n",
        "\n",
        "s[1:4] is 'ell' -- chars starting at index 1 and extending up to but not including index 4\n",
        "\n",
        "s[1:] is 'ello' -- omitting either index defaults to the start or end of the string\n",
        "\n",
        "s[:] is 'Hello' -- omitting both always gives us a copy of the whole thing (this is the pythonic way to copy a sequence like a string or list)\n",
        "\n",
        "s[1:100] is 'ello' -- an index that is too big is truncated down to the string length\n",
        "\n",
        "s[-1] is 'o' -- last char (1st from the end)\n",
        "\n",
        "s[-4] is 'e' -- 4th from the end\n",
        "\n",
        "s[:-3] is 'He' -- going up to but not including the last 3 chars.\n",
        "\n",
        "s[-3:] is 'llo' -- starting with the 3rd char from the end and extending to the end of the string.\n",
        "\n",
        " h  e  l  l  o <br>\n",
        " 0  1  2  3  4<br>\n",
        "-5 -4 -3 -2 -1<br>\n",
        "\n",
        "\n",
        "s[i] -- ith item of s, origin 0\n",
        "\n",
        "s[i:j] -- slice of s from i to j\n",
        "\n",
        "s[i:j:k] -- slice of s from i to j with step k"
      ]
    },
    {
      "cell_type": "code",
      "metadata": {
        "id": "sgU685bySOmt",
        "colab_type": "code",
        "colab": {}
      },
      "source": [
        "s='hello'"
      ],
      "execution_count": 0,
      "outputs": []
    },
    {
      "cell_type": "code",
      "metadata": {
        "id": "4s3Z73E4SWMg",
        "colab_type": "code",
        "colab": {}
      },
      "source": [
        "s[0:3]"
      ],
      "execution_count": 0,
      "outputs": []
    },
    {
      "cell_type": "code",
      "metadata": {
        "id": "cEl4V-SuSXMZ",
        "colab_type": "code",
        "colab": {}
      },
      "source": [
        "s[1:] "
      ],
      "execution_count": 0,
      "outputs": []
    },
    {
      "cell_type": "markdown",
      "metadata": {
        "id": "-F4GAb3WSb-9",
        "colab_type": "text"
      },
      "source": [
        "#### Common built- in methods\n",
        "\n",
        "min(s) -- smallest item of s\t\n",
        "\n",
        "max(s) -- largest item of s\t \n",
        "\n",
        "s.count(x) -- total number of occurrences of x in s\t\n",
        "\n",
        "s.lower(), s.upper() -- returns the lowercase or uppercase version of the string\n",
        "\n",
        "s.strip() -- returns a string with whitespace removed from the start and end\n",
        "\n",
        "s.isalpha()/s.isdigit()/s.isspace()... -- tests if all the string chars are in the various character classes\n",
        "\n",
        "s.startswith('other'), s.endswith('other') -- tests if the string starts or ends with the given other string\n",
        "\n",
        "s.replace('old', 'new') -- returns a string where all occurrences of 'old' have been replaced by 'new'\n",
        "\n",
        "s.split('delim') -- returns a list of substrings separated by the given delimiter. The delimiter is not a regular expression, it's just text. 'aaa,bbb,ccc'.split(',') -> ['aaa', 'bbb', 'ccc']. As a convenient special case s.split() (with no arguments) splits on all whitespace chars.\n",
        "\n",
        "s.join(list) -- opposite of split(), joins the elements in the given list together using the string as the delimiter. e.g. '---'.join(['aaa', 'bbb', 'ccc']) -> aaa---bbb---ccc"
      ]
    },
    {
      "cell_type": "code",
      "metadata": {
        "id": "0qUeOr4cSYdI",
        "colab_type": "code",
        "colab": {}
      },
      "source": [
        "st = 'Hello my name is Wyhow'"
      ],
      "execution_count": 0,
      "outputs": []
    },
    {
      "cell_type": "code",
      "metadata": {
        "id": "nJjvE8RMSeu_",
        "colab_type": "code",
        "colab": {}
      },
      "source": [
        "st.upper()"
      ],
      "execution_count": 0,
      "outputs": []
    },
    {
      "cell_type": "code",
      "metadata": {
        "id": "rzZcEnx-SiGg",
        "colab_type": "code",
        "colab": {}
      },
      "source": [
        "st.lower()"
      ],
      "execution_count": 0,
      "outputs": []
    },
    {
      "cell_type": "code",
      "metadata": {
        "id": "q7m01SqgSjRT",
        "colab_type": "code",
        "colab": {}
      },
      "source": [
        "st.split()"
      ],
      "execution_count": 0,
      "outputs": []
    },
    {
      "cell_type": "code",
      "metadata": {
        "id": "4rreZbU1SnSi",
        "colab_type": "code",
        "colab": {}
      },
      "source": [
        "tweets = 'This is a tweets @jackma'"
      ],
      "execution_count": 0,
      "outputs": []
    },
    {
      "cell_type": "code",
      "metadata": {
        "id": "IiSoCr6ZSoVt",
        "colab_type": "code",
        "colab": {}
      },
      "source": [
        "tweets.split('@')[1]"
      ],
      "execution_count": 0,
      "outputs": []
    },
    {
      "cell_type": "markdown",
      "metadata": {
        "id": "a2qTuNCvSvuM",
        "colab_type": "text"
      },
      "source": [
        "### Printing"
      ]
    },
    {
      "cell_type": "code",
      "metadata": {
        "id": "1QEew78KSpX_",
        "colab_type": "code",
        "colab": {}
      },
      "source": [
        "x = 'hello'"
      ],
      "execution_count": 0,
      "outputs": []
    },
    {
      "cell_type": "code",
      "metadata": {
        "id": "7aeoFH9LS3vm",
        "colab_type": "code",
        "colab": {}
      },
      "source": [
        "x"
      ],
      "execution_count": 0,
      "outputs": []
    },
    {
      "cell_type": "code",
      "metadata": {
        "id": "qI2pIwFBS5H4",
        "colab_type": "code",
        "colab": {}
      },
      "source": [
        "print(x)"
      ],
      "execution_count": 0,
      "outputs": []
    },
    {
      "cell_type": "markdown",
      "metadata": {
        "id": "OdrBTRC4Teyg",
        "colab_type": "text"
      },
      "source": [
        "### Format\n",
        "\n",
        "The % operator takes a printf-type format string on the left (%d int, %s string, %f/%g floating point), and the matching values in a tuple on the right (a tuple is made of values separated by commas, typically grouped inside parenthesis)"
      ]
    },
    {
      "cell_type": "code",
      "metadata": {
        "id": "BhUveOxsS6Kh",
        "colab_type": "code",
        "colab": {}
      },
      "source": [
        "num = 'twelve'\n",
        "name = 'Wyhow'"
      ],
      "execution_count": 0,
      "outputs": []
    },
    {
      "cell_type": "code",
      "metadata": {
        "id": "zTbFggARTm0b",
        "colab_type": "code",
        "colab": {}
      },
      "source": [
        "print('My number is: %d, and my name is: %s' %(num,name))"
      ],
      "execution_count": 0,
      "outputs": []
    },
    {
      "cell_type": "code",
      "metadata": {
        "id": "BVbYATcjTtlf",
        "colab_type": "code",
        "colab": {}
      },
      "source": [
        "print('My number is: {one}, and my name is: {two}'.format(one=num,two=name))"
      ],
      "execution_count": 0,
      "outputs": []
    },
    {
      "cell_type": "code",
      "metadata": {
        "id": "LPllLk4TTviH",
        "colab_type": "code",
        "colab": {}
      },
      "source": [
        "print('My number is: {}, and my name is: {}'.format(num,name))"
      ],
      "execution_count": 0,
      "outputs": []
    },
    {
      "cell_type": "markdown",
      "metadata": {
        "id": "msR65PPqT47R",
        "colab_type": "text"
      },
      "source": [
        "### Lists\n",
        "\n",
        "Like a string, a **list** is a sequence of values. In a string, the values are characters; in a list, they can be any type. The values in list are called **elements** or sometimes **items**.\n",
        "\n",
        "List elements are written within square brackets [ ]. Square brackets [ ] access data, with the first element at index 0.  Many of the operations defined above for strings also apply to lists. So it can be convenient to think of a string simply as a list of characters."
      ]
    },
    {
      "cell_type": "code",
      "metadata": {
        "id": "485GXvb0TyA_",
        "colab_type": "code",
        "colab": {}
      },
      "source": [
        "[1,2,3]"
      ],
      "execution_count": 0,
      "outputs": []
    },
    {
      "cell_type": "code",
      "metadata": {
        "id": "n-STbUCwT7hd",
        "colab_type": "code",
        "colab": {}
      },
      "source": [
        "a = [1, 2,3]"
      ],
      "execution_count": 0,
      "outputs": []
    },
    {
      "cell_type": "code",
      "metadata": {
        "id": "CJnpPbChT81X",
        "colab_type": "code",
        "colab": {}
      },
      "source": [
        "a"
      ],
      "execution_count": 0,
      "outputs": []
    },
    {
      "cell_type": "code",
      "metadata": {
        "id": "Irgce7RbT9po",
        "colab_type": "code",
        "colab": {}
      },
      "source": [
        "['hi',1,[1,2]]"
      ],
      "execution_count": 0,
      "outputs": []
    },
    {
      "cell_type": "code",
      "metadata": {
        "id": "wVjQ0_1UT_A1",
        "colab_type": "code",
        "colab": {}
      },
      "source": [
        "my_list = ['a','b','c']"
      ],
      "execution_count": 0,
      "outputs": []
    },
    {
      "cell_type": "code",
      "metadata": {
        "id": "Div_zPyHUAYx",
        "colab_type": "code",
        "colab": {}
      },
      "source": [
        "my_list.append('d')"
      ],
      "execution_count": 0,
      "outputs": []
    },
    {
      "cell_type": "code",
      "metadata": {
        "id": "u6HpX3dRUBfa",
        "colab_type": "code",
        "colab": {}
      },
      "source": [
        "my_list"
      ],
      "execution_count": 0,
      "outputs": []
    },
    {
      "cell_type": "code",
      "metadata": {
        "id": "L8PaEma-UCeu",
        "colab_type": "code",
        "colab": {}
      },
      "source": [
        "my_list[0]"
      ],
      "execution_count": 0,
      "outputs": []
    },
    {
      "cell_type": "code",
      "metadata": {
        "id": "I4vsd8DjUDil",
        "colab_type": "code",
        "colab": {}
      },
      "source": [
        "my_list[1]"
      ],
      "execution_count": 0,
      "outputs": []
    },
    {
      "cell_type": "code",
      "metadata": {
        "id": "0XXdZbWJUEWd",
        "colab_type": "code",
        "colab": {}
      },
      "source": [
        "my_list[1:]"
      ],
      "execution_count": 0,
      "outputs": []
    },
    {
      "cell_type": "code",
      "metadata": {
        "id": "WNPp38-FUE6H",
        "colab_type": "code",
        "colab": {}
      },
      "source": [
        "\n",
        "my_list[:1]"
      ],
      "execution_count": 0,
      "outputs": []
    },
    {
      "cell_type": "code",
      "metadata": {
        "id": "AjjuA0zAUFiw",
        "colab_type": "code",
        "colab": {}
      },
      "source": [
        "my_list[0] = 'NEW'"
      ],
      "execution_count": 0,
      "outputs": []
    },
    {
      "cell_type": "code",
      "metadata": {
        "id": "DPZaULVfUKUO",
        "colab_type": "code",
        "colab": {}
      },
      "source": [
        "my_list"
      ],
      "execution_count": 0,
      "outputs": []
    },
    {
      "cell_type": "code",
      "metadata": {
        "id": "GyWIrySkULdW",
        "colab_type": "code",
        "colab": {}
      },
      "source": [
        "nest = [1,2,3,[4,5,['target']]]"
      ],
      "execution_count": 0,
      "outputs": []
    },
    {
      "cell_type": "code",
      "metadata": {
        "id": "US7U_h9mUM37",
        "colab_type": "code",
        "colab": {}
      },
      "source": [
        "nest[3]"
      ],
      "execution_count": 0,
      "outputs": []
    },
    {
      "cell_type": "code",
      "metadata": {
        "id": "eTye9p41UN61",
        "colab_type": "code",
        "colab": {}
      },
      "source": [
        "nest[3][2]"
      ],
      "execution_count": 0,
      "outputs": []
    },
    {
      "cell_type": "code",
      "metadata": {
        "id": "x-Iah_88UPYK",
        "colab_type": "code",
        "colab": {}
      },
      "source": [
        "nest[3][2][0]"
      ],
      "execution_count": 0,
      "outputs": []
    },
    {
      "cell_type": "markdown",
      "metadata": {
        "id": "SX9lwonyURS6",
        "colab_type": "text"
      },
      "source": [
        "### List Methods\n",
        "\n",
        "- list.append(elem) -- adds a single element to the end of the list. Common error: does not return the new list, just modifies the original.\n",
        "- list.insert(index, elem) -- inserts the element at the given index, shifting elements to the right.\n",
        "- list.extend(list2) adds the elements in list2 to the end of the list. Using + or += on a list is similar to using extend().\n",
        "- list.index(elem) -- searches for the given element from the start of the list and returns its index. Throws a ValueError if the element does not appear (use \"in\" to check without a ValueError).\n",
        "- list.remove(elem) -- searches for the first instance of the given element and removes it (throws ValueError if not present)\n",
        "- list.sort() -- sorts the list in place (does not return it).\n",
        "- sorted(list) -- return sorted list but keeps the original order of the list\n",
        "- list.reverse() -- reverses the list in place (does not return it)\n",
        "- list.pop(index) -- removes and returns the element at the given index. Returns the rightmost element if index is omitted (roughly the opposite of append())."
      ]
    },
    {
      "cell_type": "code",
      "metadata": {
        "id": "wn7oWwM0UQaX",
        "colab_type": "code",
        "colab": {}
      },
      "source": [
        "my_new_list = [5,10,15]"
      ],
      "execution_count": 0,
      "outputs": []
    },
    {
      "cell_type": "code",
      "metadata": {
        "id": "Mazd9ySjUZ9L",
        "colab_type": "code",
        "colab": {}
      },
      "source": [
        "my_new_list.append(20)"
      ],
      "execution_count": 0,
      "outputs": []
    },
    {
      "cell_type": "code",
      "metadata": {
        "id": "NB7VJCu-Ua9F",
        "colab_type": "code",
        "colab": {}
      },
      "source": [
        "my_new_list"
      ],
      "execution_count": 0,
      "outputs": []
    },
    {
      "cell_type": "code",
      "metadata": {
        "id": "mzGggyRaUcgz",
        "colab_type": "code",
        "colab": {}
      },
      "source": [
        "sorted(my_new_list)"
      ],
      "execution_count": 0,
      "outputs": []
    },
    {
      "cell_type": "markdown",
      "metadata": {
        "id": "rVoQqBtRUipK",
        "colab_type": "text"
      },
      "source": [
        "### Dictionaries\n",
        "\n",
        "Python's efficient key/value hash table structure is called a \"dict\".\n",
        "\n",
        "A dictionary is similar to a list, but you access values by looking up a key instead of an index. A key can be any string or number.\n",
        "\n",
        "The contents of a dict can be written as a series of key:value pairs within braces { }, e.g. dict = {key1:value1, key2:value2, ... }.\n",
        "\n",
        "The \"empty dict\" is just an empty pair of curly braces {}.\n",
        "\n",
        "Looking up or setting a value in a dict uses square brackets, e.g. dict['foo'] looks up the value under the key 'foo'. Strings, numbers, and tuples work as keys, and any type can be a value. Other types may or may not work correctly as keys.\n",
        "\n",
        "Dictionaries are mutable!"
      ]
    },
    {
      "cell_type": "code",
      "metadata": {
        "id": "8wWZE0nHUd2u",
        "colab_type": "code",
        "colab": {}
      },
      "source": [
        "d = {'key1':'item1','key2':'item2'}"
      ],
      "execution_count": 0,
      "outputs": []
    },
    {
      "cell_type": "code",
      "metadata": {
        "id": "6LXL0JJFUg22",
        "colab_type": "code",
        "colab": {}
      },
      "source": [
        "d"
      ],
      "execution_count": 0,
      "outputs": []
    },
    {
      "cell_type": "code",
      "metadata": {
        "id": "dvlu6chTUl2U",
        "colab_type": "code",
        "colab": {}
      },
      "source": [
        "d['key1']"
      ],
      "execution_count": 0,
      "outputs": []
    },
    {
      "cell_type": "markdown",
      "metadata": {
        "id": "zM3l9_mFUo0o",
        "colab_type": "text"
      },
      "source": [
        "### Dictionary Methods\n",
        "\n",
        "- len(dict) -- Gives the total length of the dictionary. This would be equal to the number of items in the dictionary.\n",
        "- str(dict) -- Produces a printable string representation of a dictionary\n",
        "- type(variable) -- Returns the type of the passed variable. If passed variable is dictionary, then it would return a dictionary type.\n",
        "- dict.clear() -- Removes all elements of dictionary dict\n",
        "- dict.copy() -- Returns a shallow copy of dictionary dict\n",
        "- dict.fromkeys() -- Create a new dictionary with keys from seq and values set to value.\n",
        "- dict.get(key, default=None) -- For key key, returns value or default if key not in dictionary\n",
        "- dict.items() -- Returns a list of dict's (key, value) tuple pairs\n",
        "- dict.keys() -- Returns list of dictionary dict's keys\n",
        "- dict.setdefault(key, default=None) -- Similar to get(), but will set dict[key]=default if key is not already in dict\n",
        "- dict.update(dict2) -- Adds dictionary dict2's key-values pairs to dict\n",
        "- dict.values() -- Returns list of dictionary dict's values"
      ]
    },
    {
      "cell_type": "code",
      "metadata": {
        "id": "H34i-ovDUnCc",
        "colab_type": "code",
        "colab": {}
      },
      "source": [
        "d.keys()"
      ],
      "execution_count": 0,
      "outputs": []
    },
    {
      "cell_type": "code",
      "metadata": {
        "id": "qlMUc3LhUrhu",
        "colab_type": "code",
        "colab": {}
      },
      "source": [
        "d.items()"
      ],
      "execution_count": 0,
      "outputs": []
    },
    {
      "cell_type": "markdown",
      "metadata": {
        "id": "mmFfKjugU2rt",
        "colab_type": "text"
      },
      "source": [
        "### Booleans"
      ]
    },
    {
      "cell_type": "code",
      "metadata": {
        "id": "cjiY6BEhUskS",
        "colab_type": "code",
        "colab": {}
      },
      "source": [
        "True & False"
      ],
      "execution_count": 0,
      "outputs": []
    },
    {
      "cell_type": "code",
      "metadata": {
        "id": "PJANxFSgU1Tg",
        "colab_type": "code",
        "colab": {}
      },
      "source": [
        "False"
      ],
      "execution_count": 0,
      "outputs": []
    },
    {
      "cell_type": "markdown",
      "metadata": {
        "id": "Bji9gzJ4U9uE",
        "colab_type": "text"
      },
      "source": [
        "### Tuples \n",
        "\n",
        "A tuple is a fixed size grouping of elements, such as an (x, y) co-ordinate. Tuples are like lists, except they are **immutable** and do not change size (tuples are not strictly immutable since one of the contained elements could be mutable). Tuples are a convenient way to pass around a little logical, fixed size bundle of values. A function that needs to return multiple values can just return a tuple of the values."
      ]
    },
    {
      "cell_type": "code",
      "metadata": {
        "id": "4VY1uh1-U7y3",
        "colab_type": "code",
        "colab": {}
      },
      "source": [
        "t = (1,2,3)"
      ],
      "execution_count": 0,
      "outputs": []
    },
    {
      "cell_type": "code",
      "metadata": {
        "id": "zp7_OCyPVBOW",
        "colab_type": "code",
        "colab": {}
      },
      "source": [
        "t[0]"
      ],
      "execution_count": 0,
      "outputs": []
    },
    {
      "cell_type": "code",
      "metadata": {
        "id": "erqNfb3qVDor",
        "colab_type": "code",
        "colab": {}
      },
      "source": [
        "t[0] = 'NEW'"
      ],
      "execution_count": 0,
      "outputs": []
    },
    {
      "cell_type": "markdown",
      "metadata": {
        "id": "2r-ilJzEVKMI",
        "colab_type": "text"
      },
      "source": [
        "## Comparison Operators"
      ]
    },
    {
      "cell_type": "code",
      "metadata": {
        "id": "vQxxHYcmVEev",
        "colab_type": "code",
        "colab": {}
      },
      "source": [
        "1 > 2"
      ],
      "execution_count": 0,
      "outputs": []
    },
    {
      "cell_type": "code",
      "metadata": {
        "id": "3tYQ6Q6TVFpC",
        "colab_type": "code",
        "colab": {}
      },
      "source": [
        "1 < 2"
      ],
      "execution_count": 0,
      "outputs": []
    },
    {
      "cell_type": "code",
      "metadata": {
        "id": "G85bWxreVOip",
        "colab_type": "code",
        "colab": {}
      },
      "source": [
        "1 >= 1"
      ],
      "execution_count": 0,
      "outputs": []
    },
    {
      "cell_type": "code",
      "metadata": {
        "id": "qzV2hdT3VP-a",
        "colab_type": "code",
        "colab": {}
      },
      "source": [
        "1 <= 4"
      ],
      "execution_count": 0,
      "outputs": []
    },
    {
      "cell_type": "code",
      "metadata": {
        "id": "NI6bYIwnVQzY",
        "colab_type": "code",
        "colab": {}
      },
      "source": [
        "1 == 1"
      ],
      "execution_count": 0,
      "outputs": []
    },
    {
      "cell_type": "code",
      "metadata": {
        "id": "PveIqpFZVRy7",
        "colab_type": "code",
        "colab": {}
      },
      "source": [
        "'hi' == 'hi'"
      ],
      "execution_count": 0,
      "outputs": []
    },
    {
      "cell_type": "markdown",
      "metadata": {
        "id": "LTn1TWyOVYDf",
        "colab_type": "text"
      },
      "source": [
        "## Logic Operators"
      ]
    },
    {
      "cell_type": "code",
      "metadata": {
        "id": "VF1tE17XVStp",
        "colab_type": "code",
        "colab": {}
      },
      "source": [
        "(1 > 2) and (2 < 3)"
      ],
      "execution_count": 0,
      "outputs": []
    },
    {
      "cell_type": "code",
      "metadata": {
        "id": "8zjj052pVble",
        "colab_type": "code",
        "colab": {}
      },
      "source": [
        "(1 > 2) or (2 < 3)"
      ],
      "execution_count": 0,
      "outputs": []
    },
    {
      "cell_type": "code",
      "metadata": {
        "id": "891HyjTYVcrk",
        "colab_type": "code",
        "colab": {}
      },
      "source": [
        "(1 == 2) or (2 == 3) or (4 == 4)"
      ],
      "execution_count": 0,
      "outputs": []
    },
    {
      "cell_type": "markdown",
      "metadata": {
        "id": "v7F_ow3XVfSV",
        "colab_type": "text"
      },
      "source": [
        "## if, elif, else Statements"
      ]
    },
    {
      "cell_type": "code",
      "metadata": {
        "id": "FRZYbhLKVdtb",
        "colab_type": "code",
        "colab": {}
      },
      "source": [
        "if 1 > 2:\n",
        "    print('Yep!')"
      ],
      "execution_count": 0,
      "outputs": []
    },
    {
      "cell_type": "code",
      "metadata": {
        "id": "vMtJs-u0VjRh",
        "colab_type": "code",
        "colab": {}
      },
      "source": [
        "if 1 < 2:\n",
        "    print('yep!')"
      ],
      "execution_count": 0,
      "outputs": []
    },
    {
      "cell_type": "code",
      "metadata": {
        "id": "MVlcw0bRVkvS",
        "colab_type": "code",
        "colab": {}
      },
      "source": [
        "if 1 < 2:\n",
        "    print('first')\n",
        "else:\n",
        "    print('last')"
      ],
      "execution_count": 0,
      "outputs": []
    },
    {
      "cell_type": "code",
      "metadata": {
        "id": "B410JJRcVl09",
        "colab_type": "code",
        "colab": {}
      },
      "source": [
        "if 1 > 2:\n",
        "    print('first')\n",
        "else:\n",
        "    print('last')"
      ],
      "execution_count": 0,
      "outputs": []
    },
    {
      "cell_type": "code",
      "metadata": {
        "id": "ODA7QqH4Vm-y",
        "colab_type": "code",
        "colab": {}
      },
      "source": [
        "if 1 == 2:\n",
        "    print('first')\n",
        "elif 3 == 3:\n",
        "    print('middle')\n",
        "else:\n",
        "    print('Last')"
      ],
      "execution_count": 0,
      "outputs": []
    },
    {
      "cell_type": "markdown",
      "metadata": {
        "id": "dUaG8fSSVrux",
        "colab_type": "text"
      },
      "source": [
        "## for Loops\n",
        "\n",
        "Python's *for* and *in* constructs are extremely useful, and the first use of them we'll see is with lists. The *for* construct -- for var in list -- is an easy way to look at each element in a list (or other collection)."
      ]
    },
    {
      "cell_type": "code",
      "metadata": {
        "id": "xf867aH7Vphz",
        "colab_type": "code",
        "colab": {}
      },
      "source": [
        "seq = ['hi', 'why', 'hello']"
      ],
      "execution_count": 0,
      "outputs": []
    },
    {
      "cell_type": "code",
      "metadata": {
        "id": "8q0GSe7XV5xj",
        "colab_type": "code",
        "colab": {}
      },
      "source": [
        "for item in seq:\n",
        "    print(seq)"
      ],
      "execution_count": 0,
      "outputs": []
    },
    {
      "cell_type": "code",
      "metadata": {
        "id": "6lZPjYADV9Du",
        "colab_type": "code",
        "colab": {}
      },
      "source": [
        "for item in seq:\n",
        "    print('Yep')"
      ],
      "execution_count": 0,
      "outputs": []
    },
    {
      "cell_type": "code",
      "metadata": {
        "id": "Y3njaFOZV-HT",
        "colab_type": "code",
        "colab": {}
      },
      "source": [
        "for spongebob in seq:\n",
        "    print(spongebob+spongebob)"
      ],
      "execution_count": 0,
      "outputs": []
    },
    {
      "cell_type": "markdown",
      "metadata": {
        "id": "gUEd-XOIWCWb",
        "colab_type": "text"
      },
      "source": [
        "## while Loops"
      ]
    },
    {
      "cell_type": "code",
      "metadata": {
        "id": "VSyydZ9mV_Sq",
        "colab_type": "code",
        "colab": {}
      },
      "source": [
        "i = 2\n",
        "while i <= 500:\n",
        "    print('i is: {}'.format(i))\n",
        "    i = i**3"
      ],
      "execution_count": 0,
      "outputs": []
    },
    {
      "cell_type": "markdown",
      "metadata": {
        "id": "reFEPbVcWG-a",
        "colab_type": "text"
      },
      "source": [
        "## range()"
      ]
    },
    {
      "cell_type": "code",
      "metadata": {
        "id": "RXY--RiyWEzp",
        "colab_type": "code",
        "colab": {}
      },
      "source": [
        "range(5)"
      ],
      "execution_count": 0,
      "outputs": []
    },
    {
      "cell_type": "code",
      "metadata": {
        "id": "ZNl8jABDWIx_",
        "colab_type": "code",
        "colab": {}
      },
      "source": [
        "for i in range(5):\n",
        "    print(i)"
      ],
      "execution_count": 0,
      "outputs": []
    },
    {
      "cell_type": "code",
      "metadata": {
        "id": "LN6sklyJWJ7w",
        "colab_type": "code",
        "colab": {}
      },
      "source": [
        "list(range(5))"
      ],
      "execution_count": 0,
      "outputs": []
    },
    {
      "cell_type": "markdown",
      "metadata": {
        "id": "LffY6KgMWh1d",
        "colab_type": "text"
      },
      "source": [
        "# Where to go from here"
      ]
    },
    {
      "cell_type": "markdown",
      "metadata": {
        "id": "3Qbc0ImtXjZ3",
        "colab_type": "text"
      },
      "source": [
        "| Link | Image |\n",
        "|----|---|\n",
        "| [Python Data Science Handbook](http://shop.oreilly.com/product/0636920034919.do)  | !<img src=https://covers.oreillystatic.com/images/0636920034919/lrg.jpg width=\"300\"> |\n",
        "| [Python Crash Course](https://nostarch.com/pythoncrashcourse)  | !<img src=https://nostarch.com/sites/default/files/styles/uc_product_full/public/pcc2e_cover-front_final.png width=\"300\">"
      ]
    },
    {
      "cell_type": "code",
      "metadata": {
        "id": "uhzGvuYsa_Eh",
        "colab_type": "code",
        "colab": {}
      },
      "source": [
        ""
      ],
      "execution_count": 0,
      "outputs": []
    }
  ]
}