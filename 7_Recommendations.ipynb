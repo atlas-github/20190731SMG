{
  "nbformat": 4,
  "nbformat_minor": 0,
  "metadata": {
    "colab": {
      "name": "7 Recommendations.ipynb",
      "version": "0.3.2",
      "provenance": [],
      "collapsed_sections": [],
      "include_colab_link": true
    },
    "kernelspec": {
      "name": "python3",
      "display_name": "Python 3"
    }
  },
  "cells": [
    {
      "cell_type": "markdown",
      "metadata": {
        "id": "view-in-github",
        "colab_type": "text"
      },
      "source": [
        "<a href=\"https://colab.research.google.com/github/atlas-github/20190731StarMediaGroup/blob/master/7_Recommendations.ipynb\" target=\"_parent\"><img src=\"https://colab.research.google.com/assets/colab-badge.svg\" alt=\"Open In Colab\"/></a>"
      ]
    },
    {
      "cell_type": "markdown",
      "metadata": {
        "id": "3Qa0rRLKtJa1",
        "colab_type": "text"
      },
      "source": [
        "Here are a few recommendations I can make if you'd like to explore this field further. "
      ]
    },
    {
      "cell_type": "markdown",
      "metadata": {
        "id": "9dhCsPfKthex",
        "colab_type": "text"
      },
      "source": [
        "#Easy"
      ]
    },
    {
      "cell_type": "markdown",
      "metadata": {
        "id": "3uqfaeLOtnyC",
        "colab_type": "text"
      },
      "source": [
        "| Title | Link | Remarks |\n",
        "| -- | -- | -- |\n",
        "| IPython Cookbook, Second Edition (2018) | https://ipython-books.github.io/ | Most parts of the book are free, but the paid edition contains the complete material |\n",
        "| Pandas Cookbook | https://www.packtpub.com/big-data-and-business-intelligence/pandas-cookbook | Shows how to use pandas |\n",
        "| Practical Statistics for Data Scientists | https://www.oreilly.com/library/view/practical-statistics-for/9781491952955/ | Only for those who need to refresh or interested to obtain a statistical background |\n",
        "| Python Data Science Handbook | https://www.oreilly.com/library/view/python-data-science/9781491912126/ | Another introduction book to Python |\n",
        "| Python for Data Analysis, 2nd Edition | https://www.oreilly.com/library/view/python-for-data/9781491957653/ | Gives a taste of what manipulating, processing, cleaning, and crunching data feels like |\n",
        "| Python Crash Course | https://nostarch.com/pythoncrashcourse | A comprehensive introduction to Python |\n",
        "| Doing Math with Python | https://nostarch.com/doingmathwithpython | Learn how to solve high school math problems using Python |\n",
        "| Official Seaborn tutorial | https://seaborn.pydata.org/tutorial.html | A quick series of tutorials about how to use the seaborn package/library |\n",
        "| Google Cloud Certifications | https://cloud.google.com/certification/ | Worth investing effort here for the near future |"
      ]
    },
    {
      "cell_type": "markdown",
      "metadata": {
        "id": "R4HWwWOItlcQ",
        "colab_type": "text"
      },
      "source": [
        "#Not so easy"
      ]
    },
    {
      "cell_type": "markdown",
      "metadata": {
        "id": "IP1qM4ZDu74K",
        "colab_type": "text"
      },
      "source": [
        "| Title | Link | Remarks |\n",
        "| -- | -- | -- |\n",
        "| Automate the Boring Stuff with Python | https://nostarch.com/automatestuff | Shows a few examples on how to automate boring work |\n",
        "| Cracking Codes with Python | https://nostarch.com/crackingcodes | Learn how to make and break ciphers |\n",
        "| Impractical Python Projects | https://nostarch.com/impracticalpythonprojects | Not for beginners |\n",
        "| Black Hat Python | https://nostarch.com/blackhatpython | Explore writing sniffers, manipulating packets, infecting virtual machines, creating trojans etc. |\n",
        "| Serious Python | https://nostarch.com/seriouspython | I'm still working through this book |\n",
        "| Think Julia: How to Think Like a Computer Scientist | https://benlauwens.github.io/ThinkJulia.jl/latest/book.html | A free book about Julia 1.0 |\n",
        "| Art of R Programming | https://nostarch.com/artofr.htm | Software development with R |\n",
        "| Introduction to TensorFlow for Artificial Intelligence, Machine Learning, and Deep Learning | https://www.coursera.org/learn/introduction-tensorflow/ | Highly recommended! |\n",
        "| Convolutional Neurral Networks in TensorFlow | https://www.coursera.org/learn/convolutional-neural-networks-tensorflow | Highly recommended for experienced professionals! |\n",
        "| Deep Learning| https://www.deeplearningbook.org/?ref=bestofml.com | For beginners |\n",
        "| Neural Networks: Tricks of the Trade | https://link.springer.com/book/10.1007/978-3-642-35289-8 | An introduction to neural networks |\n",
        "| Neural Network Projects with Python | https://www.packtpub.com/big-data-and-business-intelligence/neural-network-projects-python | 6 projects to use neural networks |\n"
      ]
    },
    {
      "cell_type": "markdown",
      "metadata": {
        "id": "VbzoAnAnu3Ww",
        "colab_type": "text"
      },
      "source": [
        "#Others"
      ]
    },
    {
      "cell_type": "markdown",
      "metadata": {
        "id": "ZqS7_8viu9PV",
        "colab_type": "text"
      },
      "source": [
        "| Title | Link | Remarks |\n",
        "| -- | -- | -- |\n",
        "| An Introduction to Statistical Learning with Applications in R | http://www-bcf.usc.edu/~gareth/ISL/ | Good introduction to R |\n",
        "| Book of R | https://nostarch.com/bookofr | A beginner-friendly guide to R |\n",
        "| Text Mining with R | https://www.tidytextmining.com/ | A number of case studies to study and get ideas from for businesses |\n",
        "| NVIDIA Deep Learning Institute | https://www.nvidia.com/en-us/deep-learning-ai/education/ | An introduction to Deep Learning and Computer Vision |\n",
        "| Thrice: Initial Data Exploration and Song Length Distributions with Joy Plots | https://ryo-n7.github.io/2017-09-30-thrice-part-1/ | A good example on how R can be used for data analysis |\n",
        " The Elements of Statistical Learning | https://web.stanford.edu/~hastie/ElemStatLearn/ | R applications in data mining, inference, and prediction |"
      ]
    }
  ]
}