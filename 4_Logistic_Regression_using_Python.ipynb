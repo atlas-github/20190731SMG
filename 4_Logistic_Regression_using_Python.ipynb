{
  "nbformat": 4,
  "nbformat_minor": 0,
  "metadata": {
    "colab": {
      "name": "4 Logistic Regression using Python.ipynb",
      "version": "0.3.2",
      "provenance": [],
      "collapsed_sections": [],
      "include_colab_link": true
    },
    "kernelspec": {
      "name": "python3",
      "display_name": "Python 3"
    },
    "accelerator": "TPU"
  },
  "cells": [
    {
      "cell_type": "markdown",
      "metadata": {
        "id": "view-in-github",
        "colab_type": "text"
      },
      "source": [
        "<a href=\"https://colab.research.google.com/github/atlas-github/20190731StarMediaGroup/blob/master/4_Logistic_Regression_using_Python.ipynb\" target=\"_parent\"><img src=\"https://colab.research.google.com/assets/colab-badge.svg\" alt=\"Open In Colab\"/></a>"
      ]
    },
    {
      "cell_type": "markdown",
      "metadata": {
        "id": "fN2o_Y_OuqX8",
        "colab_type": "text"
      },
      "source": [
        "# Logistic Regression using Python (scikit-learn)\n"
      ]
    },
    {
      "cell_type": "markdown",
      "metadata": {
        "id": "C9OS5NbRd3Sq",
        "colab_type": "text"
      },
      "source": [
        "![MNIST](https://cdn-images-1.medium.com/max/800/1*1TkgO9Zz6rC3KpAYNl5KfA.png)"
      ]
    },
    {
      "cell_type": "markdown",
      "metadata": {
        "id": "1YQ-aGnxd_h1",
        "colab_type": "text"
      },
      "source": [
        "One of the most amazing things about Python’s scikit-learn library is that is has a 4-step modeling pattern that makes it easy to code a machine learning classifier. While this tutorial uses a classifier called Logistic Regression, the coding process in this tutorial applies to other classifiers in sklearn (Decision Tree, K-Nearest Neighbors etc). In this tutorial, we use Logistic Regression to predict digit labels based on images. The image above shows a bunch of training digits (observations) from the MNIST dataset whose category membership is known (labels 0–9). After training a model with logistic regression, it can be used to predict an image label (labels 0–9) given an image.\n",
        "\n",
        "The first part of this tutorial post goes over a toy dataset (digits dataset) to show quickly illustrate scikit-learn’s 4 step modeling pattern and show the behavior of the logistic regression algorthm. The second part of the tutorial goes over a more realistic dataset (MNIST dataset) to briefly show how changing a model’s default parameters can effect performance (both in timing and accuracy of the model)."
      ]
    },
    {
      "cell_type": "markdown",
      "metadata": {
        "id": "TK1xRfSbdgfs",
        "colab_type": "text"
      },
      "source": [
        "# Logistic Regression on Digits Dataset"
      ]
    },
    {
      "cell_type": "markdown",
      "metadata": {
        "id": "vCSRHj6bdEld",
        "colab_type": "text"
      },
      "source": [
        "##Step 1: Loading the Data (Digits Dataset)\n",
        "\n",
        "The digits dataset is one of datasets scikit-learn comes with that do not require the downloading of any file from some external website. The code below will load the digits dataset."
      ]
    },
    {
      "cell_type": "code",
      "metadata": {
        "id": "eWBJJd46c0Wg",
        "colab_type": "code",
        "colab": {}
      },
      "source": [
        "from sklearn.datasets import load_digits\n",
        "digits = load_digits()"
      ],
      "execution_count": 0,
      "outputs": []
    },
    {
      "cell_type": "markdown",
      "metadata": {
        "id": "O4XzHF7ceTXV",
        "colab_type": "text"
      },
      "source": [
        "Now that you have the dataset loaded you can use the commands below"
      ]
    },
    {
      "cell_type": "code",
      "metadata": {
        "id": "095O8HateUQ9",
        "colab_type": "code",
        "colab": {}
      },
      "source": [
        "# Print to show there are 1797 images (8 by 8 images for a dimensionality of 64)\n",
        "print(\"Image Data Shape\", digits.data.shape)\n",
        "# Print to show there are 1797 labels (integers from 0–9)\n",
        "print(\"Label Data Shape\", digits.target.shape)"
      ],
      "execution_count": 0,
      "outputs": []
    },
    {
      "cell_type": "markdown",
      "metadata": {
        "id": "hYiI9KVGdHAk",
        "colab_type": "text"
      },
      "source": [
        "##Step 2. Showing the Images and the Labels (Digits Dataset)\n",
        "\n",
        "This section is really just to show what the images and labels look like. It usually helps to visualize your data to see what you are working with."
      ]
    },
    {
      "cell_type": "code",
      "metadata": {
        "id": "d_zGf61qdEQZ",
        "colab_type": "code",
        "colab": {}
      },
      "source": [
        "import numpy as np \n",
        "import matplotlib.pyplot as plt\n",
        "plt.figure(figsize=(20,4))\n",
        "for index, (image, label) in enumerate(zip(digits.data[0:5], digits.target[0:5])):\n",
        " plt.subplot(1, 5, index + 1)\n",
        " plt.imshow(np.reshape(image, (8,8)), cmap=plt.cm.gray)\n",
        " plt.title('Training: %i\\n' % label, fontsize = 20)"
      ],
      "execution_count": 0,
      "outputs": []
    },
    {
      "cell_type": "markdown",
      "metadata": {
        "id": "1cgjuru8emSO",
        "colab_type": "text"
      },
      "source": [
        "##Step 3: Splitting Data into Training and Test Sets (Digits Dataset)\n",
        "\n",
        "We make training and test sets to make sure that after we train our classification algorithm, it is able to generalize well to new data."
      ]
    },
    {
      "cell_type": "code",
      "metadata": {
        "id": "WikIzJj9epXz",
        "colab_type": "code",
        "colab": {}
      },
      "source": [
        "from sklearn.model_selection import train_test_split\n",
        "x_train, x_test, y_train, y_test = train_test_split(digits.data, digits.target, test_size=0.25, random_state=0)"
      ],
      "execution_count": 0,
      "outputs": []
    },
    {
      "cell_type": "markdown",
      "metadata": {
        "id": "d4ubj4pZepH8",
        "colab_type": "text"
      },
      "source": [
        "##Step 4: Scikit-learn 4-Step Modeling Pattern (Digits Dataset)"
      ]
    },
    {
      "cell_type": "markdown",
      "metadata": {
        "id": "EaUrUKX4evj4",
        "colab_type": "text"
      },
      "source": [
        "###Import the [model](https://scikit-learn.org/stable/modules/generated/sklearn.linear_model.LogisticRegression.html) you want to use\n",
        "\n",
        "In sklearn, all machine learning models are implemented as Python classes"
      ]
    },
    {
      "cell_type": "code",
      "metadata": {
        "id": "pwgsQp1-ewEn",
        "colab_type": "code",
        "colab": {}
      },
      "source": [
        "from sklearn.linear_model import LogisticRegression"
      ],
      "execution_count": 0,
      "outputs": []
    },
    {
      "cell_type": "markdown",
      "metadata": {
        "id": "_XokSarCe3Z4",
        "colab_type": "text"
      },
      "source": [
        "###Make an instance of the [Model](https://scikit-learn.org/stable/modules/generated/sklearn.linear_model.LogisticRegression.html)"
      ]
    },
    {
      "cell_type": "code",
      "metadata": {
        "id": "jk6Exr3ee6Ua",
        "colab_type": "code",
        "colab": {}
      },
      "source": [
        "# all parameters not specified are set to their defaults\n",
        "logisticRegr = LogisticRegression(solver='liblinear', multi_class='auto')"
      ],
      "execution_count": 0,
      "outputs": []
    },
    {
      "cell_type": "markdown",
      "metadata": {
        "id": "MyXTsfASe84_",
        "colab_type": "text"
      },
      "source": [
        "###Training the model on the data, storing the information learned from the data\n",
        "\n",
        "Model is learning the relationship between digits (x_train) and labels (y_train)"
      ]
    },
    {
      "cell_type": "code",
      "metadata": {
        "id": "BENvWUjKfADJ",
        "colab_type": "code",
        "colab": {}
      },
      "source": [
        "logisticRegr.fit(x_train, y_train)"
      ],
      "execution_count": 0,
      "outputs": []
    },
    {
      "cell_type": "markdown",
      "metadata": {
        "id": "_tK2YaSRfoat",
        "colab_type": "text"
      },
      "source": [
        "###Predict labels for new data (new images)\n",
        "\n",
        "Uses the information the model learned during the model training process"
      ]
    },
    {
      "cell_type": "code",
      "metadata": {
        "id": "65edl7m6fp1c",
        "colab_type": "code",
        "colab": {}
      },
      "source": [
        "# Returns a NumPy Array\n",
        "# Predict for One Observation (image)\n",
        "logisticRegr.predict(x_test[0].reshape(1,-1))"
      ],
      "execution_count": 0,
      "outputs": []
    },
    {
      "cell_type": "code",
      "metadata": {
        "id": "xYXa2781iEmf",
        "colab_type": "code",
        "colab": {}
      },
      "source": [
        "import numpy as np \n",
        "import matplotlib.pyplot as plt\n",
        "plt.figure(figsize=(20,4))\n",
        "plt.imshow(np.reshape(x_test[0], (8,8)), cmap=plt.cm.gray)"
      ],
      "execution_count": 0,
      "outputs": []
    },
    {
      "cell_type": "markdown",
      "metadata": {
        "id": "3F-4NbN4fy9g",
        "colab_type": "text"
      },
      "source": [
        "Predict for Multiple Observations (images) at Once"
      ]
    },
    {
      "cell_type": "code",
      "metadata": {
        "id": "F_FxpjCofxgU",
        "colab_type": "code",
        "colab": {}
      },
      "source": [
        "logisticRegr.predict(x_test[0:10])"
      ],
      "execution_count": 0,
      "outputs": []
    },
    {
      "cell_type": "code",
      "metadata": {
        "id": "Ku_L7g3Ak7PS",
        "colab_type": "code",
        "colab": {}
      },
      "source": [
        "import numpy as np \n",
        "import matplotlib.pyplot as plt\n",
        "plt.figure(figsize=(20, 8))\n",
        "plt.imshow(np.reshape(x_test[0: 10], (8, 80)), cmap=plt.cm.gray)"
      ],
      "execution_count": 0,
      "outputs": []
    },
    {
      "cell_type": "markdown",
      "metadata": {
        "id": "Obv_gxipf1pc",
        "colab_type": "text"
      },
      "source": [
        "Make predictions on entire test data"
      ]
    },
    {
      "cell_type": "code",
      "metadata": {
        "id": "Ovy_6d5vf3oW",
        "colab_type": "code",
        "colab": {}
      },
      "source": [
        "predictions = logisticRegr.predict(x_test)"
      ],
      "execution_count": 0,
      "outputs": []
    },
    {
      "cell_type": "markdown",
      "metadata": {
        "id": "5IRGUc41gAKY",
        "colab_type": "text"
      },
      "source": [
        "###Measuring Model Performance (Digits Dataset)\n",
        "\n",
        "While there are other ways of measuring model performance (precision, recall, F1 Score, ROC Curve, etc), we are going to keep this simple and use accuracy as our metric. \n",
        "To do this are going to see how the model performs on the new data (test set)\n",
        "\n",
        "Accuracy is defined as: (fraction of correct predictions): correct predictions / total number of data points"
      ]
    },
    {
      "cell_type": "code",
      "metadata": {
        "id": "O2-UTTHmf_4U",
        "colab_type": "code",
        "colab": {}
      },
      "source": [
        "# Use score method to get accuracy of model\n",
        "score = logisticRegr.score(x_test, y_test)\n",
        "print(score)"
      ],
      "execution_count": 0,
      "outputs": []
    },
    {
      "cell_type": "markdown",
      "metadata": {
        "id": "6QvjkInhgRjM",
        "colab_type": "text"
      },
      "source": [
        "Our accuracy was 95.3%."
      ]
    },
    {
      "cell_type": "markdown",
      "metadata": {
        "id": "XmElveHFgVsI",
        "colab_type": "text"
      },
      "source": [
        "###Confusion Matrix (Digits Dataset)\n",
        "\n",
        "A confusion matrix is a table that is often used to describe the performance of a classification model (or “classifier”) on a set of test data for which the true values are known. In this section, I am just showing two python packages (Seaborn and Matplotlib) for making confusion matrices more understandable and visually appealing."
      ]
    },
    {
      "cell_type": "code",
      "metadata": {
        "id": "-BqA8xD-gZQm",
        "colab_type": "code",
        "colab": {}
      },
      "source": [
        "import matplotlib.pyplot as plt\n",
        "import seaborn as sns\n",
        "from sklearn import metrics"
      ],
      "execution_count": 0,
      "outputs": []
    },
    {
      "cell_type": "markdown",
      "metadata": {
        "id": "bciYuF2rgb-J",
        "colab_type": "text"
      },
      "source": [
        "The confusion matrix below is not visually super informative or visually appealing."
      ]
    },
    {
      "cell_type": "code",
      "metadata": {
        "id": "DLL4tc9Kgg92",
        "colab_type": "code",
        "colab": {}
      },
      "source": [
        "cm = metrics.confusion_matrix(y_test, predictions)\n",
        "\n",
        "plt.figure(figsize=(9,9))\n",
        "sns.heatmap(cm, annot=True, fmt=\".3f\", linewidths=.5, square = True, cmap = 'Blues_r');\n",
        "plt.ylabel('Actual label');\n",
        "plt.xlabel('Predicted label');\n",
        "all_sample_title = 'Accuracy Score: {0}'.format(score)\n",
        "plt.title(all_sample_title, size = 15);"
      ],
      "execution_count": 0,
      "outputs": []
    },
    {
      "cell_type": "markdown",
      "metadata": {
        "id": "Itlm7NP4e8OB",
        "colab_type": "text"
      },
      "source": [
        "# Logistic Regression (MNIST)"
      ]
    },
    {
      "cell_type": "markdown",
      "metadata": {
        "id": "JGspVNbkfLwM",
        "colab_type": "text"
      },
      "source": [
        "One important point to emphasize that the digit dataset contained in sklearn is too small to be representative of a real world machine learning task.\n",
        "We are going to use the MNIST dataset because it is for people who want to try learning techniques and pattern recognition methods on real-world data while spending minimal efforts on preprocessing and formatting. One of the things we will notice is that parameter tuning can greatly speed up a machine learning algorithm’s training time."
      ]
    },
    {
      "cell_type": "markdown",
      "metadata": {
        "id": "OS4Ck11rfai4",
        "colab_type": "text"
      },
      "source": [
        "## Downloading the Data (MNIST)"
      ]
    },
    {
      "cell_type": "markdown",
      "metadata": {
        "id": "JsF15W33fdaP",
        "colab_type": "text"
      },
      "source": [
        "The MNIST dataset doesn’t come from within scikit-learn"
      ]
    },
    {
      "cell_type": "code",
      "metadata": {
        "id": "NaQE82etfh2V",
        "colab_type": "code",
        "colab": {}
      },
      "source": [
        "from sklearn.datasets import fetch_openml\n",
        "mnist = fetch_openml(name='mnist_784')"
      ],
      "execution_count": 0,
      "outputs": []
    },
    {
      "cell_type": "markdown",
      "metadata": {
        "id": "1Uyx-JhMgxkH",
        "colab_type": "text"
      },
      "source": [
        "Now that you have the dataset loaded you can use the commands below to see that there are 70000 images and 70000 labels in the dataset."
      ]
    },
    {
      "cell_type": "code",
      "metadata": {
        "id": "R20WWbvFgye2",
        "colab_type": "code",
        "colab": {}
      },
      "source": [
        "# These are the images\n",
        "# There are 70,000 images (28 by 28 images for a dimensionality of 784)\n",
        "print(mnist.data.shape)\n",
        "# These are the labels\n",
        "print(mnist.target.shape)"
      ],
      "execution_count": 0,
      "outputs": []
    },
    {
      "cell_type": "markdown",
      "metadata": {
        "id": "L_An5vUHg46m",
        "colab_type": "text"
      },
      "source": [
        "## Splitting Data into Training and Test Sets (MNIST)"
      ]
    },
    {
      "cell_type": "markdown",
      "metadata": {
        "id": "eBMPOr5kg8bH",
        "colab_type": "text"
      },
      "source": [
        "The code below splits the data into training and test data sets. The test_size=1/7.0 makes the training set size 60,000 images and the test set size of 10,000."
      ]
    },
    {
      "cell_type": "code",
      "metadata": {
        "id": "BlDJMFoSg8nv",
        "colab_type": "code",
        "colab": {}
      },
      "source": [
        "from sklearn.model_selection import train_test_split\n",
        "train_img, test_img, train_lbl, test_lbl = train_test_split(\n",
        " mnist.data, mnist.target, test_size=1/7.0, random_state=0)"
      ],
      "execution_count": 0,
      "outputs": []
    },
    {
      "cell_type": "markdown",
      "metadata": {
        "id": "3cLQrJKWhCJN",
        "colab_type": "text"
      },
      "source": [
        "## Showing the Images and Labels (MNIST)"
      ]
    },
    {
      "cell_type": "code",
      "metadata": {
        "id": "N0D6vfgChDiT",
        "colab_type": "code",
        "colab": {}
      },
      "source": [
        "import numpy as np\n",
        "import matplotlib.pyplot as plt\n",
        "plt.figure(figsize=(20,4))\n",
        "for index, (image, label) in enumerate(zip(train_img[0:5], train_lbl[0:5])):\n",
        "  plt.subplot(1, 5, index + 1)\n",
        "  plt.imshow(np.reshape(image, (28,28)), cmap=plt.cm.gray)\n",
        "  plt.title('Training: %i\\n' % int(label), fontsize = 20)"
      ],
      "execution_count": 0,
      "outputs": []
    },
    {
      "cell_type": "markdown",
      "metadata": {
        "id": "IbR0yvyVjTz9",
        "colab_type": "text"
      },
      "source": [
        "# Scikit-learn 4-Step Modeling Pattern (MNIST)"
      ]
    },
    {
      "cell_type": "markdown",
      "metadata": {
        "id": "Z2hbQp9SjYr2",
        "colab_type": "text"
      },
      "source": [
        "Parameter tuning makes  large difference on larger and more complex datasets. While usually one adjusts parameters for the sake of accuracy, in the case below, we are adjusting the parameter solver to speed up the fitting of the model."
      ]
    },
    {
      "cell_type": "markdown",
      "metadata": {
        "id": "WtOxV35Bjj3H",
        "colab_type": "text"
      },
      "source": [
        "## Step 1: Import the model you want to use"
      ]
    },
    {
      "cell_type": "markdown",
      "metadata": {
        "id": "UTNG337tjofA",
        "colab_type": "text"
      },
      "source": [
        "In sklearn, all machine learning models are implemented as Python classes"
      ]
    },
    {
      "cell_type": "code",
      "metadata": {
        "id": "4ZbfsJt0jo5S",
        "colab_type": "code",
        "colab": {}
      },
      "source": [
        "from sklearn.linear_model import LogisticRegression"
      ],
      "execution_count": 0,
      "outputs": []
    },
    {
      "cell_type": "markdown",
      "metadata": {
        "id": "voFSiEdjjsvz",
        "colab_type": "text"
      },
      "source": [
        "## Step 2: Make an instance of the Model\n",
        "\n",
        "Please see the [documentation](https://scikit-learn.org/stable/modules/generated/sklearn.linear_model.LogisticRegression.html) if you are curious what changing solver does. Essentially, we are changing the optimization algorithm."
      ]
    },
    {
      "cell_type": "code",
      "metadata": {
        "id": "Ubom-Kp-jtuF",
        "colab_type": "code",
        "colab": {}
      },
      "source": [
        "# all parameters not specified are set to their defaults\n",
        "# default solver is incredibly slow thats why we change it\n",
        "logisticRegr = LogisticRegression(solver = 'newton-cg', multi_class = 'auto')"
      ],
      "execution_count": 0,
      "outputs": []
    },
    {
      "cell_type": "markdown",
      "metadata": {
        "id": "FEcftTSMj39e",
        "colab_type": "text"
      },
      "source": [
        "## Step 3: Training the model on the data, storing the information learned from the data"
      ]
    },
    {
      "cell_type": "markdown",
      "metadata": {
        "id": "Qytfg3vJj8r5",
        "colab_type": "text"
      },
      "source": [
        "Model is learning the relationship between x (digits) and y (labels)"
      ]
    },
    {
      "cell_type": "code",
      "metadata": {
        "id": "OwKYFyiuj_Qq",
        "colab_type": "code",
        "colab": {}
      },
      "source": [
        "logisticRegr.fit(train_img, train_lbl)"
      ],
      "execution_count": 0,
      "outputs": []
    },
    {
      "cell_type": "markdown",
      "metadata": {
        "id": "LLBlSoJQkVU0",
        "colab_type": "text"
      },
      "source": [
        "## Step 4: Predict the labels of new data (new images)\n",
        "\n",
        "Uses the information the model learned during the model training process"
      ]
    },
    {
      "cell_type": "code",
      "metadata": {
        "id": "q9Zl9JAbkfdv",
        "colab_type": "code",
        "colab": {}
      },
      "source": [
        "# Returns a NumPy Array\n",
        "# Predict for One Observation (image)\n",
        "logisticRegr.predict(test_img[0].reshape(1,-1))"
      ],
      "execution_count": 0,
      "outputs": []
    },
    {
      "cell_type": "markdown",
      "metadata": {
        "id": "suFmET42ks1f",
        "colab_type": "text"
      },
      "source": [
        "Predict for Multiple Observations (images) at Once"
      ]
    },
    {
      "cell_type": "code",
      "metadata": {
        "id": "aVjYjcHUkfoL",
        "colab_type": "code",
        "colab": {}
      },
      "source": [
        "logisticRegr.predict(test_img[0:10])"
      ],
      "execution_count": 0,
      "outputs": []
    },
    {
      "cell_type": "markdown",
      "metadata": {
        "id": "U61npcr0hDKJ",
        "colab_type": "text"
      },
      "source": [
        "Make predictions on entire test data"
      ]
    },
    {
      "cell_type": "code",
      "metadata": {
        "id": "4NpDyinZkfi9",
        "colab_type": "code",
        "colab": {}
      },
      "source": [
        "predictions = logisticRegr.predict(test_img)"
      ],
      "execution_count": 0,
      "outputs": []
    },
    {
      "cell_type": "markdown",
      "metadata": {
        "id": "bKzyce5alANd",
        "colab_type": "text"
      },
      "source": [
        "## Measuring Model Performance (MNIST)"
      ]
    },
    {
      "cell_type": "markdown",
      "metadata": {
        "id": "EOHqJXtdlDtR",
        "colab_type": "text"
      },
      "source": [
        "While there are other ways of measuring model performance (precision, recall, F1 Score, ROC Curve, etc), we are going to keep this simple and use accuracy as our metric. \n",
        "To do this are going to see how the model performs on the new data (test set)\n",
        "\n",
        "accuracy is defined as:\n",
        "\n",
        "fraction of correct predictions= $ \\frac {correct-predictions}{total-number-of-data-points} $"
      ]
    },
    {
      "cell_type": "code",
      "metadata": {
        "id": "NZ2U7TC5lYv-",
        "colab_type": "code",
        "colab": {}
      },
      "source": [
        "score = logisticRegr.score(test_img, test_lbl)\n",
        "print(score)"
      ],
      "execution_count": 0,
      "outputs": []
    },
    {
      "cell_type": "markdown",
      "metadata": {
        "id": "Bvr22wcCl4NJ",
        "colab_type": "text"
      },
      "source": [
        "## Display Misclassified images with Predicted Labels (MNIST)"
      ]
    },
    {
      "cell_type": "markdown",
      "metadata": {
        "id": "ZpZ0D_E-l6jz",
        "colab_type": "text"
      },
      "source": [
        "While I could show another confusion matrix, I figured people would rather see misclassified images on the off chance someone finds it interesting.\n",
        "\n",
        "Getting the misclassified images’ index"
      ]
    },
    {
      "cell_type": "code",
      "metadata": {
        "id": "261mQ-sYl8CE",
        "colab_type": "code",
        "colab": {}
      },
      "source": [
        "import numpy as np \n",
        "import matplotlib.pyplot as plt\n",
        "index = 0\n",
        "misclassifiedIndexes = []\n",
        "for label, predict in zip(test_lbl, predictions):\n",
        " if label != predict: \n",
        "  misclassifiedIndexes.append(index)\n",
        "  index +=1"
      ],
      "execution_count": 0,
      "outputs": []
    },
    {
      "cell_type": "markdown",
      "metadata": {
        "id": "EAf1bcULmAEG",
        "colab_type": "text"
      },
      "source": [
        "Showing the misclassified images and image labels using matplotlib"
      ]
    },
    {
      "cell_type": "code",
      "metadata": {
        "id": "mnjv0d-6mA_W",
        "colab_type": "code",
        "colab": {}
      },
      "source": [
        "plt.figure(figsize=(20,4))\n",
        "for plotIndex, badIndex in enumerate(misclassifiedIndexes[0:5]):\n",
        " plt.subplot(1, 5, plotIndex + 1)\n",
        " plt.imshow(np.reshape(test_img[badIndex], (28,28)), cmap=plt.cm.gray)\n",
        " plt.title(\"Predicted: {}, Actual: {}\".format(predictions[badIndex], test_lbl[badIndex]), fontsize = 15)"
      ],
      "execution_count": 0,
      "outputs": []
    },
    {
      "cell_type": "markdown",
      "metadata": {
        "id": "UpErrMH49MK_",
        "colab_type": "text"
      },
      "source": [
        "## Conclusion"
      ]
    },
    {
      "cell_type": "markdown",
      "metadata": {
        "id": "eSh0VTBvwF3Q",
        "colab_type": "text"
      },
      "source": [
        "The important thing to note here is that making a machine learning model in scikit-learn is not a lot of work.\n",
        "\n",
        "This article is written by Michael Galarnyk, and can be accessed [here](https://towardsdatascience.com/logistic-regression-using-python-sklearn-numpy-mnist-handwriting-recognition-matplotlib-a6b31e2b166a)."
      ]
    }
  ]
}