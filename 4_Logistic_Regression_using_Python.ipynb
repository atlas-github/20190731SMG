{
  "nbformat": 4,
  "nbformat_minor": 0,
  "metadata": {
    "colab": {
      "name": "4 Logistic Regression using Python.ipynb",
      "version": "0.3.2",
      "provenance": [],
      "collapsed_sections": [],
      "include_colab_link": true
    },
    "kernelspec": {
      "name": "python3",
      "display_name": "Python 3"
    },
    "accelerator": "TPU"
  },
  "cells": [
    {
      "cell_type": "markdown",
      "metadata": {
        "id": "view-in-github",
        "colab_type": "text"
      },
      "source": [
        "<a href=\"https://colab.research.google.com/github/atlas-github/20190731SMG/blob/master/4_Logistic_Regression_using_Python.ipynb\" target=\"_parent\"><img src=\"https://colab.research.google.com/assets/colab-badge.svg\" alt=\"Open In Colab\"/></a>"
      ]
    },
    {
      "cell_type": "markdown",
      "metadata": {
        "id": "b-7x8i-pu7U2",
        "colab_type": "text"
      },
      "source": [
        ""
      ]
    },
    {
      "cell_type": "markdown",
      "metadata": {
        "id": "fN2o_Y_OuqX8",
        "colab_type": "text"
      },
      "source": [
        "# Understanding Logistic Regression in Python\n"
      ]
    },
    {
      "cell_type": "markdown",
      "metadata": {
        "id": "ZGrO0gCLwPes",
        "colab_type": "text"
      },
      "source": [
        "## Learn about Logistic Regression, its basic properties, and build a machine learning model on a real-world application in Python."
      ]
    },
    {
      "cell_type": "markdown",
      "metadata": {
        "id": "6Ro-6JwXwUTE",
        "colab_type": "text"
      },
      "source": [
        "Classification techniques are an essential part of machine learning and data mining applications. Approximately 70% of problems in Data Science are classification problems. There are lots of classification problems that are available, but the logistics regression is common and is a useful regression method for solving the binary classification problem. Another category of classification is Multinomial classification, which handles the issues where multiple classes are present in the target variable. For example, IRIS dataset a very famous example of multi-class classification. Other examples are classifying article/blog/document category.\n",
        "\n",
        "Logistic Regression can be used for various classification problems such as spam detection. Diabetes prediction, if a given customer will purchase a particular product or will they churn another competitor, whether the user will click on a given advertisement link or not, and many more examples are in the bucket.\n",
        "\n",
        "Logistic Regression is one of the most simple and commonly used Machine Learning algorithms for two-class classification. It is easy to implement and can be used as the baseline for any binary classification problem. Its basic fundamental concepts are also constructive in deep learning. Logistic regression describes and estimates the relationship between one dependent binary variable and independent variables.\n",
        "\n",
        "In this tutorial, you will learn the following things in Logistic Regression:\n",
        "\n",
        "* Introduction to Logistic Regression\n",
        "* Linear Regression Vs. Logistic Regression\n",
        "* Maximum Likelihood Estimation Vs. Ordinary Least Square Method\n",
        "* How do Logistic Regression works?\n",
        "* Model building in Scikit-learn\n",
        "* Model Evaluation using Confusion Matrix.\n",
        "* Advantages and Disadvantages of Logistic Regression"
      ]
    },
    {
      "cell_type": "markdown",
      "metadata": {
        "id": "_UOzvMXZwneP",
        "colab_type": "text"
      },
      "source": [
        "## Logistic Regression"
      ]
    },
    {
      "cell_type": "markdown",
      "metadata": {
        "id": "BlVaPOKNwpr3",
        "colab_type": "text"
      },
      "source": [
        "Logistic regression is a statistical method for predicting binary classes. The outcome or target variable is dichotomous in nature. Dichotomous means there are only two possible classes. For example, it can be used for cancer detection problems. It computes the probability of an event occurrence.\n",
        "\n",
        "It is a special case of linear regression where the target variable is categorical in nature. It uses a log of odds as the dependent variable. Logistic Regression predicts the probability of occurrence of a binary event utilizing a logit function.\n",
        "\n",
        "Linear Regression Equation: \n",
        ">$y = \\beta_0 + \\beta_1X_1 + \\beta_2X_2 + ....+ \\beta_nX_n$, \n",
        "\n",
        "where, $y$ is the dependent variable and $X_1, X_2...$ and $X_n$ are explanatory variables.\n",
        "\n",
        "Sigmoid Function:\n",
        ">$p = \\frac{1}{1+e^{-y}}$"
      ]
    },
    {
      "cell_type": "markdown",
      "metadata": {
        "id": "enIRJmdqyx3N",
        "colab_type": "text"
      },
      "source": [
        "Apply Sigmoid function on linear regression:\n",
        "\n",
        ">$p = \\frac{1}{1+e^{-(\\beta_0 + \\beta_1X_1 + \\beta_2X_2 + ....+ \\beta_nX_n)}}$"
      ]
    },
    {
      "cell_type": "markdown",
      "metadata": {
        "id": "79t5LqquzJE-",
        "colab_type": "text"
      },
      "source": [
        "Properties of Logistic Regression:\n",
        "\n",
        "* The dependent variable in logistic regression follows Bernoulli Distribution.\n",
        "* Estimation is done through maximum likelihood.\n",
        "* No R Square, Model fitness is calculated through Concordance, KS-Statistics."
      ]
    },
    {
      "cell_type": "markdown",
      "metadata": {
        "id": "H9yRqRlszXcn",
        "colab_type": "text"
      },
      "source": [
        "## Linear Regression vs. Logistic Regression"
      ]
    },
    {
      "cell_type": "markdown",
      "metadata": {
        "id": "m8Ga_-7UzcIg",
        "colab_type": "text"
      },
      "source": [
        "Linear regression gives you a continuous output, but logistic regression provides a constant output. An example of the continuous output is house price and stock price. Example's of the discrete output is predicting whether a patient has cancer or not, predicting whether the customer will churn. Linear regression is estimated using Ordinary Least Squares (OLS) while logistic regression is estimated using Maximum Likelihood Estimation (MLE) approach."
      ]
    },
    {
      "cell_type": "markdown",
      "metadata": {
        "id": "TraFFDNkzoz3",
        "colab_type": "text"
      },
      "source": [
        "![Linear Regression vs. Logistic Regression](http://res.cloudinary.com/dyd911kmh/image/upload/f_auto,q_auto:best/v1534281070/linear_vs_logistic_regression_edxw03.png)"
      ]
    },
    {
      "cell_type": "markdown",
      "metadata": {
        "id": "I0XQeUvrzwUa",
        "colab_type": "text"
      },
      "source": [
        "## Maximum Likelihood Estimation Vs. Least Square Method"
      ]
    },
    {
      "cell_type": "markdown",
      "metadata": {
        "id": "lKYA1KhFz27C",
        "colab_type": "text"
      },
      "source": [
        "The MLE is a \"likelihood\" maximization method, while OLS is a distance-minimizing approximation method. Maximizing the likelihood function determines the parameters that are most likely to produce the observed data. From a statistical point of view, MLE sets the mean and variance as parameters in determining the specific parametric values for a given model. This set of parameters can be used for predicting the data needed in a normal distribution.\n",
        "\n",
        "Ordinary Least squares estimates are computed by fitting a regression line on given data points that has the minimum sum of the squared deviations (least square error). Both are used to estimate the parameters of a linear regression model. MLE assumes a joint probability mass function, while OLS doesn't require any stochastic assumptions for minimizing distance."
      ]
    },
    {
      "cell_type": "markdown",
      "metadata": {
        "id": "jZXQ1Fm_0hhA",
        "colab_type": "text"
      },
      "source": [
        "## Sigmoid Function"
      ]
    },
    {
      "cell_type": "markdown",
      "metadata": {
        "id": "Qv839oTA0lko",
        "colab_type": "text"
      },
      "source": [
        "The sigmoid function, also called logistic function gives an ‘S’ shaped curve that can take any real-valued number and map it into a value between 0 and 1. If the curve goes to positive infinity, y predicted will become 1, and if the curve goes to negative infinity, y predicted will become 0. If the output of the sigmoid function is more than 0.5, we can classify the outcome as 1 or YES, and if it is less than 0.5, we can classify it as 0 or NO. The outputcannotFor example: If the output is 0.75, we can say in terms of probability as: There is a 75 percent chance that patient will suffer from cancer."
      ]
    },
    {
      "cell_type": "markdown",
      "metadata": {
        "id": "PxZR-JpV1alE",
        "colab_type": "text"
      },
      "source": [
        ">$f(x) = \\frac{1}{1+e^{-x}}$"
      ]
    },
    {
      "cell_type": "markdown",
      "metadata": {
        "id": "CRAdEdiu1hUN",
        "colab_type": "text"
      },
      "source": [
        "![Logistic Regression Graph](http://res.cloudinary.com/dyd911kmh/image/upload/f_auto,q_auto:best/v1534281070/sigmoid2_lv4c7i.png)\n"
      ]
    },
    {
      "cell_type": "markdown",
      "metadata": {
        "id": "GuIlXkMZ15GE",
        "colab_type": "text"
      },
      "source": [
        "## Types of Logistic Regression"
      ]
    },
    {
      "cell_type": "markdown",
      "metadata": {
        "id": "EuxQR4p71-qt",
        "colab_type": "text"
      },
      "source": [
        "Types of Logistic Regression:\n",
        "\n",
        "* Binary Logistic Regression: The target variable has only two possible outcomes such as Spam or Not Spam, Cancer or No Cancer.\n",
        "* Multinomial Logistic Regression: The target variable has three or more nominal categories such as predicting the type of Wine.\n",
        "* Ordinal Logistic Regression: the target variable has three or more ordinal categories such as restaurant or product rating from 1 to 5."
      ]
    },
    {
      "cell_type": "markdown",
      "metadata": {
        "id": "O4xyZWQW2EHb",
        "colab_type": "text"
      },
      "source": [
        "## Model building in Scikit-learn"
      ]
    },
    {
      "cell_type": "markdown",
      "metadata": {
        "id": "35AkrPID2JvL",
        "colab_type": "text"
      },
      "source": [
        "Let's build the diabetes prediction model.\n",
        "\n",
        "Here, you are going to predict diabetes using Logistic Regression Classifier.\n",
        "\n",
        "Let's first load the required Pima Indian Diabetes dataset using the pandas' read CSV function. You can download data from the following [link](https://www.kaggle.com/uciml/pima-indians-diabetes-database)."
      ]
    },
    {
      "cell_type": "markdown",
      "metadata": {
        "id": "RNa52oPW2UAE",
        "colab_type": "text"
      },
      "source": [
        "### Loading Data"
      ]
    },
    {
      "cell_type": "code",
      "metadata": {
        "id": "hZcIqstbuPZ6",
        "colab_type": "code",
        "colab": {
          "base_uri": "https://localhost:8080/",
          "height": 204
        },
        "outputId": "86ede788-7ec3-488c-8151-784980ff219d"
      },
      "source": [
        "#import pandas\n",
        "import pandas as pd\n",
        "col_names = ['pregnant', 'glucose', 'bp', 'skin', 'insulin', 'bmi', 'pedigree', 'age', 'label']\n",
        "# load dataset\n",
        "pima = pd.read_csv(\"https://raw.githubusercontent.com/jbrownlee/Datasets/master/pima-indians-diabetes.data.csv\", header=None, names=col_names)\n",
        "pima.head()"
      ],
      "execution_count": 7,
      "outputs": [
        {
          "output_type": "execute_result",
          "data": {
            "text/html": [
              "<div>\n",
              "<style scoped>\n",
              "    .dataframe tbody tr th:only-of-type {\n",
              "        vertical-align: middle;\n",
              "    }\n",
              "\n",
              "    .dataframe tbody tr th {\n",
              "        vertical-align: top;\n",
              "    }\n",
              "\n",
              "    .dataframe thead th {\n",
              "        text-align: right;\n",
              "    }\n",
              "</style>\n",
              "<table border=\"1\" class=\"dataframe\">\n",
              "  <thead>\n",
              "    <tr style=\"text-align: right;\">\n",
              "      <th></th>\n",
              "      <th>pregnant</th>\n",
              "      <th>glucose</th>\n",
              "      <th>bp</th>\n",
              "      <th>skin</th>\n",
              "      <th>insulin</th>\n",
              "      <th>bmi</th>\n",
              "      <th>pedigree</th>\n",
              "      <th>age</th>\n",
              "      <th>label</th>\n",
              "    </tr>\n",
              "  </thead>\n",
              "  <tbody>\n",
              "    <tr>\n",
              "      <th>0</th>\n",
              "      <td>6</td>\n",
              "      <td>148</td>\n",
              "      <td>72</td>\n",
              "      <td>35</td>\n",
              "      <td>0</td>\n",
              "      <td>33.6</td>\n",
              "      <td>0.627</td>\n",
              "      <td>50</td>\n",
              "      <td>1</td>\n",
              "    </tr>\n",
              "    <tr>\n",
              "      <th>1</th>\n",
              "      <td>1</td>\n",
              "      <td>85</td>\n",
              "      <td>66</td>\n",
              "      <td>29</td>\n",
              "      <td>0</td>\n",
              "      <td>26.6</td>\n",
              "      <td>0.351</td>\n",
              "      <td>31</td>\n",
              "      <td>0</td>\n",
              "    </tr>\n",
              "    <tr>\n",
              "      <th>2</th>\n",
              "      <td>8</td>\n",
              "      <td>183</td>\n",
              "      <td>64</td>\n",
              "      <td>0</td>\n",
              "      <td>0</td>\n",
              "      <td>23.3</td>\n",
              "      <td>0.672</td>\n",
              "      <td>32</td>\n",
              "      <td>1</td>\n",
              "    </tr>\n",
              "    <tr>\n",
              "      <th>3</th>\n",
              "      <td>1</td>\n",
              "      <td>89</td>\n",
              "      <td>66</td>\n",
              "      <td>23</td>\n",
              "      <td>94</td>\n",
              "      <td>28.1</td>\n",
              "      <td>0.167</td>\n",
              "      <td>21</td>\n",
              "      <td>0</td>\n",
              "    </tr>\n",
              "    <tr>\n",
              "      <th>4</th>\n",
              "      <td>0</td>\n",
              "      <td>137</td>\n",
              "      <td>40</td>\n",
              "      <td>35</td>\n",
              "      <td>168</td>\n",
              "      <td>43.1</td>\n",
              "      <td>2.288</td>\n",
              "      <td>33</td>\n",
              "      <td>1</td>\n",
              "    </tr>\n",
              "  </tbody>\n",
              "</table>\n",
              "</div>"
            ],
            "text/plain": [
              "   pregnant  glucose  bp  skin  insulin   bmi  pedigree  age  label\n",
              "0         6      148  72    35        0  33.6     0.627   50      1\n",
              "1         1       85  66    29        0  26.6     0.351   31      0\n",
              "2         8      183  64     0        0  23.3     0.672   32      1\n",
              "3         1       89  66    23       94  28.1     0.167   21      0\n",
              "4         0      137  40    35      168  43.1     2.288   33      1"
            ]
          },
          "metadata": {
            "tags": []
          },
          "execution_count": 7
        }
      ]
    },
    {
      "cell_type": "markdown",
      "metadata": {
        "id": "KILSpuM73gu2",
        "colab_type": "text"
      },
      "source": [
        "### Selecting Feature"
      ]
    },
    {
      "cell_type": "markdown",
      "metadata": {
        "id": "g4tEPrhz3l3D",
        "colab_type": "text"
      },
      "source": [
        "Here, you need to divide the given columns into two types of variables dependent(or target variable) and independent variable(or feature variables)."
      ]
    },
    {
      "cell_type": "code",
      "metadata": {
        "id": "ok-5kqSO3qKG",
        "colab_type": "code",
        "colab": {}
      },
      "source": [
        "#split dataset in features and target variable\n",
        "feature_cols = ['pregnant', 'insulin', 'bmi', 'age','glucose','bp','pedigree']\n",
        "X = pima[feature_cols] # Features\n",
        "y = pima.label # Target variable"
      ],
      "execution_count": 0,
      "outputs": []
    },
    {
      "cell_type": "markdown",
      "metadata": {
        "id": "AD--2cwS3jqJ",
        "colab_type": "text"
      },
      "source": [
        "### Splitting Data"
      ]
    },
    {
      "cell_type": "markdown",
      "metadata": {
        "id": "b0iU5u9x3tAb",
        "colab_type": "text"
      },
      "source": [
        "To understand model performance, dividing the dataset into a training set and a test set is a good strategy.\n",
        "\n",
        "Let's split dataset by using function train_test_split(). You need to pass 3 parameters features, target, and test_set size. Additionally, you can use random_state to select records randomly."
      ]
    },
    {
      "cell_type": "code",
      "metadata": {
        "id": "gwhp6tEH7WIC",
        "colab_type": "code",
        "colab": {}
      },
      "source": [
        "# split X and y into training and testing sets\n",
        "from sklearn.model_selection import train_test_split\n",
        "X_train,X_test,y_train,y_test=train_test_split(X,y,test_size=0.25,random_state=0)"
      ],
      "execution_count": 0,
      "outputs": []
    },
    {
      "cell_type": "markdown",
      "metadata": {
        "id": "8MGWZXPh7VT1",
        "colab_type": "text"
      },
      "source": [
        "Here, the Dataset is broken into two parts in a ratio of 75:25. It means 75% data will be used for model training and 25% for model testing."
      ]
    },
    {
      "cell_type": "markdown",
      "metadata": {
        "id": "3TyhYUUT7nUx",
        "colab_type": "text"
      },
      "source": [
        "### Model Development and Prediction"
      ]
    },
    {
      "cell_type": "markdown",
      "metadata": {
        "id": "2kv2vKjR7qhC",
        "colab_type": "text"
      },
      "source": [
        "First, import the Logistic Regression module and create a Logistic Regression classifier object using LogisticRegression() function.\n",
        "\n",
        "Then, fit your model on the train set using fit() and perform prediction on the test set using predict()."
      ]
    },
    {
      "cell_type": "code",
      "metadata": {
        "id": "nDx4-HVY7t7d",
        "colab_type": "code",
        "colab": {}
      },
      "source": [
        "# import the class\n",
        "from sklearn.linear_model import LogisticRegression\n",
        "\n",
        "# instantiate the model (using the default parameters)\n",
        "logreg = LogisticRegression(solver = 'liblinear')\n",
        "\n",
        "# fit the model with data\n",
        "logreg.fit(X_train,y_train)\n",
        "\n",
        "#\n",
        "y_pred=logreg.predict(X_test)"
      ],
      "execution_count": 0,
      "outputs": []
    },
    {
      "cell_type": "markdown",
      "metadata": {
        "id": "HZFWqiC58SoU",
        "colab_type": "text"
      },
      "source": [
        "### Model Evaluation using Confusion Matrix"
      ]
    },
    {
      "cell_type": "markdown",
      "metadata": {
        "id": "D-vYBGTP8WRd",
        "colab_type": "text"
      },
      "source": [
        "A confusion matrix is a table that is used to evaluate the performance of a classification model. You can also visualize the performance of an algorithm. The fundamental of a confusion matrix is the number of correct and incorrect predictions are summed up class-wise."
      ]
    },
    {
      "cell_type": "code",
      "metadata": {
        "id": "X_YRU0ny8R0C",
        "colab_type": "code",
        "colab": {
          "base_uri": "https://localhost:8080/",
          "height": 51
        },
        "outputId": "0b47be1b-6fb9-447c-fec9-7cc78411dce6"
      },
      "source": [
        "# import the metrics class\n",
        "from sklearn import metrics\n",
        "cnf_matrix = metrics.confusion_matrix(y_test, y_pred)\n",
        "cnf_matrix"
      ],
      "execution_count": 14,
      "outputs": [
        {
          "output_type": "execute_result",
          "data": {
            "text/plain": [
              "array([[119,  11],\n",
              "       [ 26,  36]])"
            ]
          },
          "metadata": {
            "tags": []
          },
          "execution_count": 14
        }
      ]
    },
    {
      "cell_type": "markdown",
      "metadata": {
        "id": "d3Jp4AOU8att",
        "colab_type": "text"
      },
      "source": [
        "Here, you can see the confusion matrix in the form of the array object. The dimension of this matrix is 2*2 because this model is binary classification. You have two classes 0 and 1. Diagonal values represent accurate predictions, while non-diagonal elements are inaccurate predictions. In the output, 119 and 36 are actual predictions, and 26 and 11 are incorrect predictions."
      ]
    },
    {
      "cell_type": "markdown",
      "metadata": {
        "id": "kaumhUmg8fEs",
        "colab_type": "text"
      },
      "source": [
        "### Visualizing Confusion Matrix using Heatmap"
      ]
    },
    {
      "cell_type": "markdown",
      "metadata": {
        "id": "gkdzaFm88igw",
        "colab_type": "text"
      },
      "source": [
        "Let's visualize the results of the model in the form of a confusion matrix using matplotlib and seaborn.\n",
        "\n",
        "Here, you will visualize the confusion matrix using Heatmap."
      ]
    },
    {
      "cell_type": "code",
      "metadata": {
        "id": "m58Uf7PC8jlT",
        "colab_type": "code",
        "colab": {}
      },
      "source": [
        "# import required modules\n",
        "import numpy as np\n",
        "import matplotlib.pyplot as plt\n",
        "import seaborn as sns\n",
        "%matplotlib inline"
      ],
      "execution_count": 0,
      "outputs": []
    },
    {
      "cell_type": "code",
      "metadata": {
        "id": "anPKmhig8nUJ",
        "colab_type": "code",
        "colab": {
          "base_uri": "https://localhost:8080/",
          "height": 339
        },
        "outputId": "9d648aeb-e3ff-41fc-88e5-9222a4348b7c"
      },
      "source": [
        "class_names=[0,1] # name  of classes\n",
        "fig, ax = plt.subplots()\n",
        "tick_marks = np.arange(len(class_names))\n",
        "plt.xticks(tick_marks, class_names)\n",
        "plt.yticks(tick_marks, class_names)\n",
        "# create heatmap\n",
        "sns.heatmap(pd.DataFrame(cnf_matrix), annot=True, cmap=\"YlGnBu\" ,fmt='g')\n",
        "ax.xaxis.set_label_position(\"top\")\n",
        "plt.tight_layout()\n",
        "plt.title('Confusion matrix', y=1.1)\n",
        "plt.ylabel('Actual label')\n",
        "plt.xlabel('Predicted label')"
      ],
      "execution_count": 16,
      "outputs": [
        {
          "output_type": "execute_result",
          "data": {
            "text/plain": [
              "Text(0.5, 257.44, 'Predicted label')"
            ]
          },
          "metadata": {
            "tags": []
          },
          "execution_count": 16
        },
        {
          "output_type": "display_data",
          "data": {
            "image/png": "[encoded data removed]",
            "text/plain": [
              "<Figure size 432x288 with 2 Axes>"
            ]
          },
          "metadata": {
            "tags": []
          }
        }
      ]
    },
    {
      "cell_type": "markdown",
      "metadata": {
        "id": "ThfvdEba8shl",
        "colab_type": "text"
      },
      "source": [
        "### Confusion Matrix Evaluation Metrics"
      ]
    },
    {
      "cell_type": "markdown",
      "metadata": {
        "id": "kyOcmDLA8vpp",
        "colab_type": "text"
      },
      "source": [
        "Let's evaluate the model using model evaluation metrics such as accuracy, precision, and recall."
      ]
    },
    {
      "cell_type": "code",
      "metadata": {
        "id": "qzfWJTS18xfx",
        "colab_type": "code",
        "colab": {
          "base_uri": "https://localhost:8080/",
          "height": 68
        },
        "outputId": "db00d926-d3ce-41c9-f307-e903235b1ef9"
      },
      "source": [
        "print(\"Accuracy:\",metrics.accuracy_score(y_test, y_pred))\n",
        "print(\"Precision:\",metrics.precision_score(y_test, y_pred))\n",
        "print(\"Recall:\",metrics.recall_score(y_test, y_pred))"
      ],
      "execution_count": 17,
      "outputs": [
        {
          "output_type": "stream",
          "text": [
            "Accuracy: 0.8072916666666666\n",
            "Precision: 0.7659574468085106\n",
            "Recall: 0.5806451612903226\n"
          ],
          "name": "stdout"
        }
      ]
    },
    {
      "cell_type": "markdown",
      "metadata": {
        "id": "zlfO-CEe80IH",
        "colab_type": "text"
      },
      "source": [
        "Well, you got a classification rate of 80%, considered as good accuracy.\n",
        "\n",
        "Precision: Precision is about being precise, i.e., how accurate your model is. In other words, you can say, when a model makes a prediction, how often it is correct. In your prediction case, when your Logistic Regression model predicted patients are going to suffer from diabetes, that patients have 76% of the time.\n",
        "\n",
        "Recall: If there are patients who have diabetes in the test set and your Logistic Regression model can identify it 58% of the time."
      ]
    },
    {
      "cell_type": "markdown",
      "metadata": {
        "id": "PIc5VzPL83eP",
        "colab_type": "text"
      },
      "source": [
        "### ROC Curve"
      ]
    },
    {
      "cell_type": "markdown",
      "metadata": {
        "id": "hefKzTI185hQ",
        "colab_type": "text"
      },
      "source": [
        "Receiver Operating Characteristic(ROC) curve is a plot of the true positive rate against the false positive rate. It shows the tradeoff between sensitivity and specificity."
      ]
    },
    {
      "cell_type": "code",
      "metadata": {
        "id": "IdUWdAfv8-B7",
        "colab_type": "code",
        "colab": {
          "base_uri": "https://localhost:8080/",
          "height": 269
        },
        "outputId": "ef6f96d9-0144-4495-a433-91b8b2c7e270"
      },
      "source": [
        "y_pred_proba = logreg.predict_proba(X_test)[::,1]\n",
        "fpr, tpr, _ = metrics.roc_curve(y_test,  y_pred_proba)\n",
        "auc = metrics.roc_auc_score(y_test, y_pred_proba)\n",
        "plt.plot(fpr,tpr,label=\"data 1, auc=\"+str(auc))\n",
        "plt.legend(loc=4)\n",
        "plt.show()"
      ],
      "execution_count": 18,
      "outputs": [
        {
          "output_type": "display_data",
          "data": {
            "image/png": "[encoded data removed]",
            "text/plain": [
              "<Figure size 432x288 with 1 Axes>"
            ]
          },
          "metadata": {
            "tags": []
          }
        }
      ]
    },
    {
      "cell_type": "markdown",
      "metadata": {
        "id": "x_TfoWNU9AVl",
        "colab_type": "text"
      },
      "source": [
        "AUC score for the case is 0.86. AUC score 1 represents perfect classifier, and 0.5 represents a worthless classifier."
      ]
    },
    {
      "cell_type": "markdown",
      "metadata": {
        "id": "beC0ozl59uZH",
        "colab_type": "text"
      },
      "source": [
        "### Logistic Regression Coefficients"
      ]
    },
    {
      "cell_type": "code",
      "metadata": {
        "id": "MnTjcQYd95Ep",
        "colab_type": "code",
        "colab": {
          "base_uri": "https://localhost:8080/",
          "height": 68
        },
        "outputId": "836a12dc-fb68-4d63-b362-5cd5091a5918"
      },
      "source": [
        "print(logreg.coef_)\n",
        "print(feature_cols)"
      ],
      "execution_count": 20,
      "outputs": [
        {
          "output_type": "stream",
          "text": [
            "[[ 8.43654770e-02 -2.40910368e-04  5.80966675e-02  1.11947519e-02\n",
            "   2.51416971e-02 -1.57505727e-02  6.16175564e-01]]\n",
            "['pregnant', 'insulin', 'bmi', 'age', 'glucose', 'bp', 'pedigree']\n"
          ],
          "name": "stdout"
        }
      ]
    },
    {
      "cell_type": "markdown",
      "metadata": {
        "id": "Lscgg9YU9DQ1",
        "colab_type": "text"
      },
      "source": [
        "## Advantages"
      ]
    },
    {
      "cell_type": "markdown",
      "metadata": {
        "id": "JaQumK_U9Db3",
        "colab_type": "text"
      },
      "source": [
        "Because of its efficient and straightforward nature, doesn't require high computation power, easy to implement, easily interpretable, used widely by data analyst and scientist. Also, it doesn't require scaling of features. Logistic regression provides a probability score for observations."
      ]
    },
    {
      "cell_type": "markdown",
      "metadata": {
        "id": "6a-6LJgb9DmA",
        "colab_type": "text"
      },
      "source": [
        "## Disadvantages\n"
      ]
    },
    {
      "cell_type": "markdown",
      "metadata": {
        "id": "aabkdHbB9DuD",
        "colab_type": "text"
      },
      "source": [
        "Logistic regression is not able to handle a large number of categorical features/variables. It is vulnerable to overfitting. Also, can't solve the non-linear problem with the logistic regression that is why it requires a transformation of non-linear features. Logistic regression will not perform well with independent variables that are not correlated to the target variable and are very similar or correlated to each other."
      ]
    },
    {
      "cell_type": "markdown",
      "metadata": {
        "id": "UpErrMH49MK_",
        "colab_type": "text"
      },
      "source": [
        "## Conclusion"
      ]
    },
    {
      "cell_type": "markdown",
      "metadata": {
        "id": "fT8xzNCL9OFt",
        "colab_type": "text"
      },
      "source": [
        "In this tutorial, you covered a lot of details about Logistic Regression. You have learned what the logistic regression is, how to build respective models, how to visualize results and some of the theoretical background information. Also, you covered some basic concepts such as the sigmoid function, maximum likelihood, confusion matrix, ROC curve.\n",
        "\n",
        "Hopefully, you can now utilize the Logistic Regression technique to analyze your own datasets. Thanks for reading this tutorial!\n",
        "\n",
        "If you would like to learn more about Logistic Regression, take DataCamp's [Foundations of Predictive Analytics in Python (Part 1)](https://www.datacamp.com/courses/foundations-of-predictive-analytics-in-python-part-1) course."
      ]
    },
    {
      "cell_type": "markdown",
      "metadata": {
        "id": "eSh0VTBvwF3Q",
        "colab_type": "text"
      },
      "source": [
        "This article is written by Avinash Naviani and can be accessed [here](https://www.datacamp.com/community/tutorials/understanding-logistic-regression-python)."
      ]
    }
  ]
}