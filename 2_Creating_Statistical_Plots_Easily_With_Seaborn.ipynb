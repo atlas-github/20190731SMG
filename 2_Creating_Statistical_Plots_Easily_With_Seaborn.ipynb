{
  "nbformat": 4,
  "nbformat_minor": 0,
  "metadata": {
    "colab": {
      "name": "2 Creating Statistical Plots Easily With Seaborn.ipynb",
      "version": "0.3.2",
      "provenance": [],
      "collapsed_sections": [],
      "include_colab_link": true
    },
    "kernelspec": {
      "name": "python3",
      "display_name": "Python 3"
    }
  },
  "cells": [
    {
      "cell_type": "markdown",
      "metadata": {
        "id": "view-in-github",
        "colab_type": "text"
      },
      "source": [
        "<a href=\"https://colab.research.google.com/github/atlas-github/20190731SMG/blob/master/2_Creating_Statistical_Plots_Easily_With_Seaborn.ipynb\" target=\"_parent\"><img src=\"https://colab.research.google.com/assets/colab-badge.svg\" alt=\"Open In Colab\"/></a>"
      ]
    },
    {
      "cell_type": "markdown",
      "metadata": {
        "id": "JOPG9zvbqder",
        "colab_type": "text"
      },
      "source": [
        "_This is one of the 100+ free recipes of the [IPython Cookbook, Second Edition](https://ipython-books.github.io/), by [Cyrille Rossant](http://cyrille.rossant.net/), a guide to numerical computing and data science in the Jupyter Notebook. The ebook and printed book are available for purchase at [Packt Publishing](https://www.packtpub.com/big-data-and-business-intelligence/ipython-interactive-computing-and-visualization-cookbook-second-e)._\n",
        "\n",
        "+ ▶  _[Text on GitHub](https://github.com/ipython-books/cookbook-2nd) with a [CC-BY-NC-ND license](https://creativecommons.org/licenses/by-nc-nd/3.0/us/legalcode)_\n",
        "+ ▶  _[Code on GitHub](https://github.com/ipython-books/cookbook-2nd-code) with a [MIT license](https://opensource.org/licenses/MIT)_\n",
        "+ ▶  _[Go to Chapter 6 : Data Visualization](https://ipython-books.github.io/chapter-6-data-visualization/)_\n",
        "+ ▶  _[Get the Jupyter notebook](https://github.com/ipython-books/cookbook-2nd-code)_\n",
        "\n",
        "__seaborn__ is a library that builds on top of matplotlib and pandas to provide easy-to-use statistical plotting routines. In this recipe, we give a few examples of the types of statistical plots that can be created with seaborn."
      ]
    },
    {
      "cell_type": "markdown",
      "metadata": {
        "id": "Hx3r-SJVqhUa",
        "colab_type": "text"
      },
      "source": [
        "# How to do it..."
      ]
    },
    {
      "cell_type": "markdown",
      "metadata": {
        "id": "AT-DPPauqliH",
        "colab_type": "text"
      },
      "source": [
        "1. Let's import NumPy, matplotlib, and seaborn:"
      ]
    },
    {
      "cell_type": "code",
      "metadata": {
        "id": "PwCYwKrigePR",
        "colab_type": "code",
        "colab": {}
      },
      "source": [
        "import numpy as np\n",
        "from scipy import stats\n",
        "import matplotlib.pyplot as plt\n",
        "import seaborn as sns\n",
        "%matplotlib inline"
      ],
      "execution_count": 0,
      "outputs": []
    },
    {
      "cell_type": "markdown",
      "metadata": {
        "id": "8Mw0Uzqfqpmv",
        "colab_type": "text"
      },
      "source": [
        "2.  seaborn comes with builtin datasets, which are useful when making demos. The __tips__ datasets contains the bills and tips of taxi trips:"
      ]
    },
    {
      "cell_type": "code",
      "metadata": {
        "id": "ktNjFrZjqciT",
        "colab_type": "code",
        "colab": {}
      },
      "source": [
        "tips = sns.load_dataset('tips')\n",
        "tips.head()"
      ],
      "execution_count": 0,
      "outputs": []
    },
    {
      "cell_type": "markdown",
      "metadata": {
        "id": "hv1KbyP4qsEM",
        "colab_type": "text"
      },
      "source": [
        "3. seaborn implements easy-to-use functions to visualize the distribution of datasets. Here, we plot the histogram, __kernel density estimation (KDE)__, and a gamma distribution fit of our dataset:"
      ]
    },
    {
      "cell_type": "code",
      "metadata": {
        "id": "--ns3JU-qrk6",
        "colab_type": "code",
        "colab": {}
      },
      "source": [
        "# We create two subplots sharing the same y axis.\n",
        "f, (ax1, ax2) = plt.subplots(1, 2,\n",
        "                       figsize=(12, 5),\n",
        "                       sharey=True)\n",
        "\n",
        "# Left subplot.\n",
        "# Histogram and KDE (active by default).\n",
        "sns.distplot(tips.total_bill,\n",
        "             ax=ax1,\n",
        "             hist=True)\n",
        "\n",
        "# Right subplot.\n",
        "# \"Rugplot\", KDE, and gamma fit.\n",
        "sns.distplot(tips.total_bill,\n",
        "             ax=ax2,\n",
        "             hist=False,\n",
        "             kde=True,\n",
        "             rug=True,\n",
        "             fit=stats.gamma,\n",
        "             fit_kws=dict(label='gamma'),\n",
        "             kde_kws=dict(label='kde'))\n",
        "ax2.legend()"
      ],
      "execution_count": 0,
      "outputs": []
    },
    {
      "cell_type": "markdown",
      "metadata": {
        "id": "Km2GCrg1q27W",
        "colab_type": "text"
      },
      "source": [
        "4. We can make a quick linear regression to visualize the correlation between two variables:"
      ]
    },
    {
      "cell_type": "code",
      "metadata": {
        "id": "PVEnd5EGqzMH",
        "colab_type": "code",
        "colab": {}
      },
      "source": [
        "sns.regplot(x=\"total_bill\", y=\"tip\", data=tips)"
      ],
      "execution_count": 0,
      "outputs": []
    },
    {
      "cell_type": "markdown",
      "metadata": {
        "id": "5vwOe2uWq7L0",
        "colab_type": "text"
      },
      "source": [
        "5. We can also visualize the distribution of categorical data with different types of plots. Here, we display a bar plot, a violin plot, and a swarmplot, which show an increasing amount of details:"
      ]
    },
    {
      "cell_type": "code",
      "metadata": {
        "id": "wwi7ktI6q6zN",
        "colab_type": "code",
        "colab": {}
      },
      "source": [
        "f, (ax1, ax2, ax3) = plt.subplots(\n",
        "    1, 3, figsize=(12, 4), sharey=True)\n",
        "sns.barplot(x='sex', y='tip', data=tips, ax=ax1)\n",
        "sns.violinplot(x='sex', y='tip', data=tips, ax=ax2)\n",
        "sns.swarmplot(x='sex', y='tip', data=tips, ax=ax3)"
      ],
      "execution_count": 0,
      "outputs": []
    },
    {
      "cell_type": "markdown",
      "metadata": {
        "id": "Qm8iCnKfrAe8",
        "colab_type": "text"
      },
      "source": [
        "The bar plot shows the mean and standard deviation of the tip, for males and females. The violin plot shows an estimation of the distribution in a more informative way than the bar plot, especially with non-Gaussian or multimodal distributions. The swarm plot displays all points, using the x axis to make them non-overlapping."
      ]
    },
    {
      "cell_type": "markdown",
      "metadata": {
        "id": "J6FrnlP0rDAe",
        "colab_type": "text"
      },
      "source": [
        "6. The __FacetGrid__ lets us explore a multidimensional dataset with several subplots organized within a grid. Here, we plot the tip as a function of the bill with a linear regression, for every combination of smoker (Yes/No) and sex (Male/Female):"
      ]
    },
    {
      "cell_type": "code",
      "metadata": {
        "id": "uy6kzwoBq9sa",
        "colab_type": "code",
        "colab": {}
      },
      "source": [
        "g = sns.FacetGrid(tips, col='smoker', row='sex')\n",
        "g.map(sns.regplot, 'total_bill', 'tip')"
      ],
      "execution_count": 0,
      "outputs": []
    },
    {
      "cell_type": "markdown",
      "metadata": {
        "id": "C_0cTVvWrG-L",
        "colab_type": "text"
      },
      "source": [
        "Besides seaborn, there are other high-level plotting interfaces:\n",
        "\n",
        "+ The _Grammar of Graphics_ is a book by Dr. Leland Wilkinson that has influenced many high-level plotting interfaces such as R's _ggplot2_, Python's _ggplot_ by ŷhat, and others.\n",
        "+ __Vega__, by Trifacta, is a declarative visualization grammar that can be translated to D3.js (a JavaScript visualization library). __Altair__ provides a Python API for the Vega-Lite specification (a higher-level specification that compiles to Vega).\n",
        "\n",
        "Here are some more references:\n",
        "\n",
        "+ seaborn tutorial at https://seaborn.pydata.org/tutorial.html\n",
        "+ seaborn gallery at https://seaborn.pydata.org/examples/index.html\n",
        "+ Altair available at https://altair-viz.github.io\n",
        "+ plotnine, a Grammar of Graphics implementation in Python, at https://plotnine.readthedocs.io/en/stable/\n",
        "+ ggplot for Python available at http://ggplot.yhathq.com/\n",
        "+ ggplot2 for the R programming language, available at http://ggplot2.org/\n",
        "+ Python Plotting for Exploratory Data Analysis at http://pythonplot.com/"
      ]
    }
  ]
}